{
 "cells": [
  {
   "cell_type": "markdown",
   "metadata": {},
   "source": [
    "# Import libraries and data"
   ]
  },
  {
   "cell_type": "code",
   "execution_count": 1,
   "metadata": {},
   "outputs": [],
   "source": [
    "import pandas as pd\n",
    "from dateutil import parser\n",
    "import matplotlib.pyplot as plt\n",
    "import numpy as np\n",
    "import seaborn as sn\n",
    "import time\n",
    "from sklearn.model_selection import train_test_split\n",
    "from sklearn.preprocessing import StandardScaler\n",
    "from sklearn.linear_model import LogisticRegression\n",
    "from sklearn.metrics import confusion_matrix, accuracy_score, f1_score, precision_score, recall_score\n",
    "from sklearn.model_selection import cross_val_score\n",
    "from sklearn.model_selection import GridSearchCV\n",
    "import copy\n",
    "\n",
    "import sklearn.preprocessing as preprocessing\n",
    "from sklearn.ensemble  import RandomForestClassifier as rfc\n",
    "from sklearn.ensemble import RandomForestClassifier\n",
    "from sklearn.ensemble  import GradientBoostingClassifier as gdb\n",
    "from sklearn.metrics import roc_curve, auc\n",
    "import statsmodels.formula.api as smf\n",
    "from sklearn.ensemble  import RandomForestRegressor as rfr\n",
    "\n",
    "try:\n",
    "    from StringIO import StringIO\n",
    "except ImportError:\n",
    "    from io import StringIO"
   ]
  },
  {
   "cell_type": "code",
   "execution_count": 2,
   "metadata": {},
   "outputs": [],
   "source": [
    "train = pd.read_csv('data_format1/train_format1.csv')\n",
    "test = pd.read_csv('data_format1/test_format1.csv')"
   ]
  },
  {
   "cell_type": "code",
   "execution_count": 3,
   "metadata": {},
   "outputs": [
    {
     "data": {
      "text/plain": [
       "(261477, 3)"
      ]
     },
     "execution_count": 3,
     "metadata": {},
     "output_type": "execute_result"
    }
   ],
   "source": [
    "test.shape"
   ]
  },
  {
   "cell_type": "code",
   "execution_count": 4,
   "metadata": {},
   "outputs": [
    {
     "data": {
      "text/html": [
       "<div>\n",
       "<style scoped>\n",
       "    .dataframe tbody tr th:only-of-type {\n",
       "        vertical-align: middle;\n",
       "    }\n",
       "\n",
       "    .dataframe tbody tr th {\n",
       "        vertical-align: top;\n",
       "    }\n",
       "\n",
       "    .dataframe thead th {\n",
       "        text-align: right;\n",
       "    }\n",
       "</style>\n",
       "<table border=\"1\" class=\"dataframe\">\n",
       "  <thead>\n",
       "    <tr style=\"text-align: right;\">\n",
       "      <th></th>\n",
       "      <th>seller_id</th>\n",
       "      <th>click</th>\n",
       "      <th>cart</th>\n",
       "      <th>buy</th>\n",
       "      <th>fav</th>\n",
       "      <th>sellerTotalAction</th>\n",
       "      <th>click_to_buy_ratio</th>\n",
       "      <th>cart_to_buy_ratio</th>\n",
       "      <th>fav_to_buy_ratio</th>\n",
       "      <th>su_click</th>\n",
       "      <th>...</th>\n",
       "      <th>item_count</th>\n",
       "      <th>cat_count</th>\n",
       "      <th>brand_count</th>\n",
       "      <th>item_ratio</th>\n",
       "      <th>cat_ratio</th>\n",
       "      <th>brand_ratio</th>\n",
       "      <th>click_ratio</th>\n",
       "      <th>cart_ratio</th>\n",
       "      <th>buy_ratio</th>\n",
       "      <th>fav_ratio</th>\n",
       "    </tr>\n",
       "  </thead>\n",
       "  <tbody>\n",
       "    <tr>\n",
       "      <th>0</th>\n",
       "      <td>1</td>\n",
       "      <td>308236.0</td>\n",
       "      <td>444.0</td>\n",
       "      <td>17705.0</td>\n",
       "      <td>12755.0</td>\n",
       "      <td>339140.0</td>\n",
       "      <td>-2.856965</td>\n",
       "      <td>3.683585</td>\n",
       "      <td>0.327902</td>\n",
       "      <td>29251.0</td>\n",
       "      <td>...</td>\n",
       "      <td>2977</td>\n",
       "      <td>44</td>\n",
       "      <td>2</td>\n",
       "      <td>0.002730</td>\n",
       "      <td>0.026538</td>\n",
       "      <td>0.000237</td>\n",
       "      <td>0.069011</td>\n",
       "      <td>0.008536</td>\n",
       "      <td>0.018073</td>\n",
       "      <td>0.021270</td>\n",
       "    </tr>\n",
       "    <tr>\n",
       "      <th>1</th>\n",
       "      <td>2</td>\n",
       "      <td>2030.0</td>\n",
       "      <td>8.0</td>\n",
       "      <td>189.0</td>\n",
       "      <td>144.0</td>\n",
       "      <td>2371.0</td>\n",
       "      <td>-2.369259</td>\n",
       "      <td>3.049799</td>\n",
       "      <td>0.270290</td>\n",
       "      <td>902.0</td>\n",
       "      <td>...</td>\n",
       "      <td>154</td>\n",
       "      <td>10</td>\n",
       "      <td>1</td>\n",
       "      <td>0.000141</td>\n",
       "      <td>0.006031</td>\n",
       "      <td>0.000118</td>\n",
       "      <td>0.002128</td>\n",
       "      <td>0.000193</td>\n",
       "      <td>0.000380</td>\n",
       "      <td>0.000544</td>\n",
       "    </tr>\n",
       "    <tr>\n",
       "      <th>2</th>\n",
       "      <td>3</td>\n",
       "      <td>2399.0</td>\n",
       "      <td>4.0</td>\n",
       "      <td>67.0</td>\n",
       "      <td>175.0</td>\n",
       "      <td>2645.0</td>\n",
       "      <td>-3.563716</td>\n",
       "      <td>2.610070</td>\n",
       "      <td>-0.950976</td>\n",
       "      <td>1103.0</td>\n",
       "      <td>...</td>\n",
       "      <td>171</td>\n",
       "      <td>4</td>\n",
       "      <td>1</td>\n",
       "      <td>0.000157</td>\n",
       "      <td>0.002413</td>\n",
       "      <td>0.000118</td>\n",
       "      <td>0.002602</td>\n",
       "      <td>0.000129</td>\n",
       "      <td>0.000153</td>\n",
       "      <td>0.000643</td>\n",
       "    </tr>\n",
       "    <tr>\n",
       "      <th>3</th>\n",
       "      <td>4</td>\n",
       "      <td>2646.0</td>\n",
       "      <td>2.0</td>\n",
       "      <td>294.0</td>\n",
       "      <td>164.0</td>\n",
       "      <td>3106.0</td>\n",
       "      <td>-2.194207</td>\n",
       "      <td>4.588363</td>\n",
       "      <td>0.581030</td>\n",
       "      <td>1384.0</td>\n",
       "      <td>...</td>\n",
       "      <td>155</td>\n",
       "      <td>7</td>\n",
       "      <td>2</td>\n",
       "      <td>0.000142</td>\n",
       "      <td>0.004222</td>\n",
       "      <td>0.000237</td>\n",
       "      <td>0.003265</td>\n",
       "      <td>0.000064</td>\n",
       "      <td>0.000474</td>\n",
       "      <td>0.000655</td>\n",
       "    </tr>\n",
       "    <tr>\n",
       "      <th>4</th>\n",
       "      <td>5</td>\n",
       "      <td>7483.0</td>\n",
       "      <td>9.0</td>\n",
       "      <td>144.0</td>\n",
       "      <td>556.0</td>\n",
       "      <td>8192.0</td>\n",
       "      <td>-3.943789</td>\n",
       "      <td>2.674149</td>\n",
       "      <td>-1.345831</td>\n",
       "      <td>3535.0</td>\n",
       "      <td>...</td>\n",
       "      <td>660</td>\n",
       "      <td>23</td>\n",
       "      <td>1</td>\n",
       "      <td>0.000605</td>\n",
       "      <td>0.013872</td>\n",
       "      <td>0.000118</td>\n",
       "      <td>0.008340</td>\n",
       "      <td>0.000290</td>\n",
       "      <td>0.000283</td>\n",
       "      <td>0.001962</td>\n",
       "    </tr>\n",
       "  </tbody>\n",
       "</table>\n",
       "<p>5 rows × 23 columns</p>\n",
       "</div>"
      ],
      "text/plain": [
       "   seller_id     click   cart      buy      fav  sellerTotalAction  \\\n",
       "0          1  308236.0  444.0  17705.0  12755.0           339140.0   \n",
       "1          2    2030.0    8.0    189.0    144.0             2371.0   \n",
       "2          3    2399.0    4.0     67.0    175.0             2645.0   \n",
       "3          4    2646.0    2.0    294.0    164.0             3106.0   \n",
       "4          5    7483.0    9.0    144.0    556.0             8192.0   \n",
       "\n",
       "   click_to_buy_ratio  cart_to_buy_ratio  fav_to_buy_ratio  su_click  ...  \\\n",
       "0           -2.856965           3.683585          0.327902   29251.0  ...   \n",
       "1           -2.369259           3.049799          0.270290     902.0  ...   \n",
       "2           -3.563716           2.610070         -0.950976    1103.0  ...   \n",
       "3           -2.194207           4.588363          0.581030    1384.0  ...   \n",
       "4           -3.943789           2.674149         -1.345831    3535.0  ...   \n",
       "\n",
       "   item_count  cat_count  brand_count  item_ratio  cat_ratio  brand_ratio  \\\n",
       "0        2977         44            2    0.002730   0.026538     0.000237   \n",
       "1         154         10            1    0.000141   0.006031     0.000118   \n",
       "2         171          4            1    0.000157   0.002413     0.000118   \n",
       "3         155          7            2    0.000142   0.004222     0.000237   \n",
       "4         660         23            1    0.000605   0.013872     0.000118   \n",
       "\n",
       "   click_ratio  cart_ratio  buy_ratio  fav_ratio  \n",
       "0     0.069011    0.008536   0.018073   0.021270  \n",
       "1     0.002128    0.000193   0.000380   0.000544  \n",
       "2     0.002602    0.000129   0.000153   0.000643  \n",
       "3     0.003265    0.000064   0.000474   0.000655  \n",
       "4     0.008340    0.000290   0.000283   0.001962  \n",
       "\n",
       "[5 rows x 23 columns]"
      ]
     },
     "execution_count": 4,
     "metadata": {},
     "output_type": "execute_result"
    }
   ],
   "source": [
    "user_final = pd.read_csv(\"user_final.csv\", sep='\\t')\n",
    "user_final.drop(columns = {\"Unnamed: 0\"}, inplace=True)\n",
    "seller_final = pd.read_csv(\"seller_final.csv\", sep='\\t')\n",
    "seller_final.drop(columns = {\"Unnamed: 0\"}, inplace=True)\n",
    "seller_final.head()"
   ]
  },
  {
   "cell_type": "code",
   "execution_count": 5,
   "metadata": {},
   "outputs": [
    {
     "data": {
      "text/html": [
       "<div>\n",
       "<style scoped>\n",
       "    .dataframe tbody tr th:only-of-type {\n",
       "        vertical-align: middle;\n",
       "    }\n",
       "\n",
       "    .dataframe tbody tr th {\n",
       "        vertical-align: top;\n",
       "    }\n",
       "\n",
       "    .dataframe thead th {\n",
       "        text-align: right;\n",
       "    }\n",
       "</style>\n",
       "<table border=\"1\" class=\"dataframe\">\n",
       "  <thead>\n",
       "    <tr style=\"text-align: right;\">\n",
       "      <th></th>\n",
       "      <th>user_id</th>\n",
       "      <th>age_range</th>\n",
       "      <th>gender</th>\n",
       "      <th>click</th>\n",
       "      <th>add</th>\n",
       "      <th>buy</th>\n",
       "      <th>save</th>\n",
       "      <th>userTotalAction</th>\n",
       "      <th>click_ratio_</th>\n",
       "      <th>add_ratio_</th>\n",
       "      <th>...</th>\n",
       "      <th>index</th>\n",
       "      <th>unique_item</th>\n",
       "      <th>unique_cat</th>\n",
       "      <th>unique_seller</th>\n",
       "      <th>unique_brand</th>\n",
       "      <th>unique_active_day</th>\n",
       "      <th>day_count</th>\n",
       "      <th>month_count</th>\n",
       "      <th>day_norm</th>\n",
       "      <th>rep_buyer</th>\n",
       "    </tr>\n",
       "  </thead>\n",
       "  <tbody>\n",
       "    <tr>\n",
       "      <th>0</th>\n",
       "      <td>376517</td>\n",
       "      <td>6.0</td>\n",
       "      <td>1.0</td>\n",
       "      <td>73.0</td>\n",
       "      <td>0.0</td>\n",
       "      <td>5.0</td>\n",
       "      <td>1.0</td>\n",
       "      <td>79.0</td>\n",
       "      <td>0.924051</td>\n",
       "      <td>0.0</td>\n",
       "      <td>...</td>\n",
       "      <td>376517</td>\n",
       "      <td>39</td>\n",
       "      <td>17</td>\n",
       "      <td>20</td>\n",
       "      <td>20</td>\n",
       "      <td>10</td>\n",
       "      <td>10</td>\n",
       "      <td>3.333</td>\n",
       "      <td>0.592154</td>\n",
       "      <td>1.0</td>\n",
       "    </tr>\n",
       "    <tr>\n",
       "      <th>1</th>\n",
       "      <td>234512</td>\n",
       "      <td>5.0</td>\n",
       "      <td>0.0</td>\n",
       "      <td>47.0</td>\n",
       "      <td>0.0</td>\n",
       "      <td>7.0</td>\n",
       "      <td>2.0</td>\n",
       "      <td>56.0</td>\n",
       "      <td>0.839286</td>\n",
       "      <td>0.0</td>\n",
       "      <td>...</td>\n",
       "      <td>234512</td>\n",
       "      <td>29</td>\n",
       "      <td>18</td>\n",
       "      <td>21</td>\n",
       "      <td>20</td>\n",
       "      <td>11</td>\n",
       "      <td>11</td>\n",
       "      <td>3.667</td>\n",
       "      <td>0.651370</td>\n",
       "      <td>1.0</td>\n",
       "    </tr>\n",
       "    <tr>\n",
       "      <th>2</th>\n",
       "      <td>344532</td>\n",
       "      <td>5.0</td>\n",
       "      <td>0.0</td>\n",
       "      <td>64.0</td>\n",
       "      <td>0.0</td>\n",
       "      <td>8.0</td>\n",
       "      <td>19.0</td>\n",
       "      <td>91.0</td>\n",
       "      <td>0.703297</td>\n",
       "      <td>0.0</td>\n",
       "      <td>...</td>\n",
       "      <td>344532</td>\n",
       "      <td>54</td>\n",
       "      <td>25</td>\n",
       "      <td>20</td>\n",
       "      <td>21</td>\n",
       "      <td>14</td>\n",
       "      <td>14</td>\n",
       "      <td>2.800</td>\n",
       "      <td>0.829016</td>\n",
       "      <td>1.0</td>\n",
       "    </tr>\n",
       "    <tr>\n",
       "      <th>3</th>\n",
       "      <td>186135</td>\n",
       "      <td>5.0</td>\n",
       "      <td>0.0</td>\n",
       "      <td>193.0</td>\n",
       "      <td>0.0</td>\n",
       "      <td>2.0</td>\n",
       "      <td>5.0</td>\n",
       "      <td>200.0</td>\n",
       "      <td>0.965000</td>\n",
       "      <td>0.0</td>\n",
       "      <td>...</td>\n",
       "      <td>186135</td>\n",
       "      <td>21</td>\n",
       "      <td>11</td>\n",
       "      <td>11</td>\n",
       "      <td>10</td>\n",
       "      <td>5</td>\n",
       "      <td>5</td>\n",
       "      <td>5.000</td>\n",
       "      <td>0.296077</td>\n",
       "      <td>0.0</td>\n",
       "    </tr>\n",
       "    <tr>\n",
       "      <th>4</th>\n",
       "      <td>30230</td>\n",
       "      <td>5.0</td>\n",
       "      <td>0.0</td>\n",
       "      <td>29.0</td>\n",
       "      <td>0.0</td>\n",
       "      <td>3.0</td>\n",
       "      <td>0.0</td>\n",
       "      <td>32.0</td>\n",
       "      <td>0.906250</td>\n",
       "      <td>0.0</td>\n",
       "      <td>...</td>\n",
       "      <td>30230</td>\n",
       "      <td>24</td>\n",
       "      <td>13</td>\n",
       "      <td>14</td>\n",
       "      <td>14</td>\n",
       "      <td>13</td>\n",
       "      <td>13</td>\n",
       "      <td>2.167</td>\n",
       "      <td>0.769801</td>\n",
       "      <td>0.0</td>\n",
       "    </tr>\n",
       "  </tbody>\n",
       "</table>\n",
       "<p>5 rows × 28 columns</p>\n",
       "</div>"
      ],
      "text/plain": [
       "   user_id  age_range  gender  click  add  buy  save  userTotalAction  \\\n",
       "0   376517        6.0     1.0   73.0  0.0  5.0   1.0             79.0   \n",
       "1   234512        5.0     0.0   47.0  0.0  7.0   2.0             56.0   \n",
       "2   344532        5.0     0.0   64.0  0.0  8.0  19.0             91.0   \n",
       "3   186135        5.0     0.0  193.0  0.0  2.0   5.0            200.0   \n",
       "4    30230        5.0     0.0   29.0  0.0  3.0   0.0             32.0   \n",
       "\n",
       "   click_ratio_  add_ratio_  ...   index  unique_item  unique_cat  \\\n",
       "0      0.924051         0.0  ...  376517           39          17   \n",
       "1      0.839286         0.0  ...  234512           29          18   \n",
       "2      0.703297         0.0  ...  344532           54          25   \n",
       "3      0.965000         0.0  ...  186135           21          11   \n",
       "4      0.906250         0.0  ...   30230           24          13   \n",
       "\n",
       "   unique_seller  unique_brand  unique_active_day  day_count  month_count  \\\n",
       "0             20            20                 10         10        3.333   \n",
       "1             21            20                 11         11        3.667   \n",
       "2             20            21                 14         14        2.800   \n",
       "3             11            10                  5          5        5.000   \n",
       "4             14            14                 13         13        2.167   \n",
       "\n",
       "   day_norm  rep_buyer  \n",
       "0  0.592154        1.0  \n",
       "1  0.651370        1.0  \n",
       "2  0.829016        1.0  \n",
       "3  0.296077        0.0  \n",
       "4  0.769801        0.0  \n",
       "\n",
       "[5 rows x 28 columns]"
      ]
     },
     "execution_count": 5,
     "metadata": {},
     "output_type": "execute_result"
    }
   ],
   "source": [
    "user_final.head()"
   ]
  },
  {
   "cell_type": "code",
   "execution_count": 6,
   "metadata": {},
   "outputs": [
    {
     "data": {
      "text/plain": [
       "(331256, 28)"
      ]
     },
     "execution_count": 6,
     "metadata": {},
     "output_type": "execute_result"
    }
   ],
   "source": [
    "user_final.shape"
   ]
  },
  {
   "cell_type": "code",
   "execution_count": 7,
   "metadata": {},
   "outputs": [],
   "source": [
    "train =train.merge(user_final, how=\"inner\", on = [\"user_id\"])"
   ]
  },
  {
   "cell_type": "code",
   "execution_count": 8,
   "metadata": {},
   "outputs": [
    {
     "data": {
      "text/plain": [
       "(205055, 30)"
      ]
     },
     "execution_count": 8,
     "metadata": {},
     "output_type": "execute_result"
    }
   ],
   "source": [
    "train.shape"
   ]
  },
  {
   "cell_type": "code",
   "execution_count": 9,
   "metadata": {},
   "outputs": [
    {
     "data": {
      "text/plain": [
       "0"
      ]
     },
     "execution_count": 9,
     "metadata": {},
     "output_type": "execute_result"
    }
   ],
   "source": [
    "train.isna().sum().sum()"
   ]
  },
  {
   "cell_type": "code",
   "execution_count": 10,
   "metadata": {},
   "outputs": [],
   "source": [
    "train.rename(columns = {\"merchant_id\":\"seller_id\"}, inplace=True)"
   ]
  },
  {
   "cell_type": "code",
   "execution_count": 11,
   "metadata": {},
   "outputs": [],
   "source": [
    "train = train.merge(seller_final, how=\"inner\", on = [\"seller_id\"])"
   ]
  },
  {
   "cell_type": "code",
   "execution_count": 12,
   "metadata": {},
   "outputs": [
    {
     "data": {
      "text/plain": [
       "(205055, 52)"
      ]
     },
     "execution_count": 12,
     "metadata": {},
     "output_type": "execute_result"
    }
   ],
   "source": [
    "train.shape"
   ]
  },
  {
   "cell_type": "code",
   "execution_count": 13,
   "metadata": {},
   "outputs": [],
   "source": [
    "label = train[\"label\"]\n",
    "train.drop(columns = {\"label\"}, inplace=True)"
   ]
  },
  {
   "cell_type": "code",
   "execution_count": 14,
   "metadata": {},
   "outputs": [],
   "source": [
    "feature = copy.deepcopy(train)"
   ]
  },
  {
   "cell_type": "code",
   "execution_count": 15,
   "metadata": {},
   "outputs": [],
   "source": [
    "feature_identity = feature[['user_id','seller_id']]\n",
    "feature.drop(columns = ['user_id','seller_id'],inplace=True)"
   ]
  },
  {
   "cell_type": "code",
   "execution_count": 16,
   "metadata": {},
   "outputs": [
    {
     "name": "stderr",
     "output_type": "stream",
     "text": [
      "/anaconda3/envs/myEnv3/lib/python3.6/site-packages/ipykernel_launcher.py:1: DataConversionWarning: Data with input dtype int64, float64 were all converted to float64 by the scale function.\n",
      "  \"\"\"Entry point for launching an IPython kernel.\n"
     ]
    },
    {
     "data": {
      "text/html": [
       "<div>\n",
       "<style scoped>\n",
       "    .dataframe tbody tr th:only-of-type {\n",
       "        vertical-align: middle;\n",
       "    }\n",
       "\n",
       "    .dataframe tbody tr th {\n",
       "        vertical-align: top;\n",
       "    }\n",
       "\n",
       "    .dataframe thead th {\n",
       "        text-align: right;\n",
       "    }\n",
       "</style>\n",
       "<table border=\"1\" class=\"dataframe\">\n",
       "  <thead>\n",
       "    <tr style=\"text-align: right;\">\n",
       "      <th></th>\n",
       "      <th>age_range</th>\n",
       "      <th>gender</th>\n",
       "      <th>click_x</th>\n",
       "      <th>add</th>\n",
       "      <th>buy_x</th>\n",
       "      <th>save</th>\n",
       "      <th>userTotalAction</th>\n",
       "      <th>click_ratio_</th>\n",
       "      <th>add_ratio_</th>\n",
       "      <th>buy_ratio_</th>\n",
       "      <th>...</th>\n",
       "      <th>item_count</th>\n",
       "      <th>cat_count</th>\n",
       "      <th>brand_count</th>\n",
       "      <th>item_ratio</th>\n",
       "      <th>cat_ratio</th>\n",
       "      <th>brand_ratio</th>\n",
       "      <th>click_ratio</th>\n",
       "      <th>cart_ratio</th>\n",
       "      <th>buy_ratio</th>\n",
       "      <th>fav_ratio</th>\n",
       "    </tr>\n",
       "  </thead>\n",
       "  <tbody>\n",
       "    <tr>\n",
       "      <th>0</th>\n",
       "      <td>1.725529</td>\n",
       "      <td>-0.669265</td>\n",
       "      <td>1.407726</td>\n",
       "      <td>-0.194013</td>\n",
       "      <td>2.639150</td>\n",
       "      <td>-0.056918</td>\n",
       "      <td>1.398883</td>\n",
       "      <td>0.495621</td>\n",
       "      <td>-0.171762</td>\n",
       "      <td>-0.281641</td>\n",
       "      <td>...</td>\n",
       "      <td>-0.218709</td>\n",
       "      <td>0.03332</td>\n",
       "      <td>-0.282251</td>\n",
       "      <td>-0.218709</td>\n",
       "      <td>0.03332</td>\n",
       "      <td>-0.282251</td>\n",
       "      <td>-0.249792</td>\n",
       "      <td>-0.36354</td>\n",
       "      <td>-0.764652</td>\n",
       "      <td>-0.324672</td>\n",
       "    </tr>\n",
       "    <tr>\n",
       "      <th>1</th>\n",
       "      <td>-0.589278</td>\n",
       "      <td>-0.669265</td>\n",
       "      <td>1.848632</td>\n",
       "      <td>-0.194013</td>\n",
       "      <td>0.298022</td>\n",
       "      <td>1.846891</td>\n",
       "      <td>1.905293</td>\n",
       "      <td>0.325440</td>\n",
       "      <td>-0.171762</td>\n",
       "      <td>-0.893228</td>\n",
       "      <td>...</td>\n",
       "      <td>-0.218709</td>\n",
       "      <td>0.03332</td>\n",
       "      <td>-0.282251</td>\n",
       "      <td>-0.218709</td>\n",
       "      <td>0.03332</td>\n",
       "      <td>-0.282251</td>\n",
       "      <td>-0.249792</td>\n",
       "      <td>-0.36354</td>\n",
       "      <td>-0.764652</td>\n",
       "      <td>-0.324672</td>\n",
       "    </tr>\n",
       "    <tr>\n",
       "      <th>2</th>\n",
       "      <td>-0.589278</td>\n",
       "      <td>-0.669265</td>\n",
       "      <td>0.039395</td>\n",
       "      <td>-0.194013</td>\n",
       "      <td>-0.127637</td>\n",
       "      <td>0.851718</td>\n",
       "      <td>0.121242</td>\n",
       "      <td>-0.400072</td>\n",
       "      <td>-0.171762</td>\n",
       "      <td>-0.620913</td>\n",
       "      <td>...</td>\n",
       "      <td>-0.218709</td>\n",
       "      <td>0.03332</td>\n",
       "      <td>-0.282251</td>\n",
       "      <td>-0.218709</td>\n",
       "      <td>0.03332</td>\n",
       "      <td>-0.282251</td>\n",
       "      <td>-0.249792</td>\n",
       "      <td>-0.36354</td>\n",
       "      <td>-0.764652</td>\n",
       "      <td>-0.324672</td>\n",
       "    </tr>\n",
       "    <tr>\n",
       "      <th>3</th>\n",
       "      <td>0.182324</td>\n",
       "      <td>1.100018</td>\n",
       "      <td>0.100210</td>\n",
       "      <td>-0.194013</td>\n",
       "      <td>0.191608</td>\n",
       "      <td>-0.359797</td>\n",
       "      <td>0.060844</td>\n",
       "      <td>0.680255</td>\n",
       "      <td>-0.171762</td>\n",
       "      <td>-0.371219</td>\n",
       "      <td>...</td>\n",
       "      <td>-0.218709</td>\n",
       "      <td>0.03332</td>\n",
       "      <td>-0.282251</td>\n",
       "      <td>-0.218709</td>\n",
       "      <td>0.03332</td>\n",
       "      <td>-0.282251</td>\n",
       "      <td>-0.249792</td>\n",
       "      <td>-0.36354</td>\n",
       "      <td>-0.764652</td>\n",
       "      <td>-0.324672</td>\n",
       "    </tr>\n",
       "    <tr>\n",
       "      <th>4</th>\n",
       "      <td>-0.589278</td>\n",
       "      <td>-0.669265</td>\n",
       "      <td>0.911072</td>\n",
       "      <td>-0.194013</td>\n",
       "      <td>-0.234052</td>\n",
       "      <td>0.894987</td>\n",
       "      <td>0.920348</td>\n",
       "      <td>0.396786</td>\n",
       "      <td>-0.171762</td>\n",
       "      <td>-0.908117</td>\n",
       "      <td>...</td>\n",
       "      <td>-0.218709</td>\n",
       "      <td>0.03332</td>\n",
       "      <td>-0.282251</td>\n",
       "      <td>-0.218709</td>\n",
       "      <td>0.03332</td>\n",
       "      <td>-0.282251</td>\n",
       "      <td>-0.249792</td>\n",
       "      <td>-0.36354</td>\n",
       "      <td>-0.764652</td>\n",
       "      <td>-0.324672</td>\n",
       "    </tr>\n",
       "  </tbody>\n",
       "</table>\n",
       "<p>5 rows × 49 columns</p>\n",
       "</div>"
      ],
      "text/plain": [
       "   age_range    gender   click_x       add     buy_x      save  \\\n",
       "0   1.725529 -0.669265  1.407726 -0.194013  2.639150 -0.056918   \n",
       "1  -0.589278 -0.669265  1.848632 -0.194013  0.298022  1.846891   \n",
       "2  -0.589278 -0.669265  0.039395 -0.194013 -0.127637  0.851718   \n",
       "3   0.182324  1.100018  0.100210 -0.194013  0.191608 -0.359797   \n",
       "4  -0.589278 -0.669265  0.911072 -0.194013 -0.234052  0.894987   \n",
       "\n",
       "   userTotalAction  click_ratio_  add_ratio_  buy_ratio_  ...  item_count  \\\n",
       "0         1.398883      0.495621   -0.171762   -0.281641  ...   -0.218709   \n",
       "1         1.905293      0.325440   -0.171762   -0.893228  ...   -0.218709   \n",
       "2         0.121242     -0.400072   -0.171762   -0.620913  ...   -0.218709   \n",
       "3         0.060844      0.680255   -0.171762   -0.371219  ...   -0.218709   \n",
       "4         0.920348      0.396786   -0.171762   -0.908117  ...   -0.218709   \n",
       "\n",
       "   cat_count  brand_count  item_ratio  cat_ratio  brand_ratio  click_ratio  \\\n",
       "0    0.03332    -0.282251   -0.218709    0.03332    -0.282251    -0.249792   \n",
       "1    0.03332    -0.282251   -0.218709    0.03332    -0.282251    -0.249792   \n",
       "2    0.03332    -0.282251   -0.218709    0.03332    -0.282251    -0.249792   \n",
       "3    0.03332    -0.282251   -0.218709    0.03332    -0.282251    -0.249792   \n",
       "4    0.03332    -0.282251   -0.218709    0.03332    -0.282251    -0.249792   \n",
       "\n",
       "   cart_ratio  buy_ratio  fav_ratio  \n",
       "0    -0.36354  -0.764652  -0.324672  \n",
       "1    -0.36354  -0.764652  -0.324672  \n",
       "2    -0.36354  -0.764652  -0.324672  \n",
       "3    -0.36354  -0.764652  -0.324672  \n",
       "4    -0.36354  -0.764652  -0.324672  \n",
       "\n",
       "[5 rows x 49 columns]"
      ]
     },
     "execution_count": 16,
     "metadata": {},
     "output_type": "execute_result"
    }
   ],
   "source": [
    "feature = pd.DataFrame(columns=feature.columns, data=preprocessing.scale(feature))\n",
    "feature.head()"
   ]
  },
  {
   "cell_type": "code",
   "execution_count": 17,
   "metadata": {},
   "outputs": [
    {
     "data": {
      "text/plain": [
       "Index(['age_range', 'gender', 'click_x', 'add', 'buy_x', 'save',\n",
       "       'userTotalAction', 'click_ratio_', 'add_ratio_', 'buy_ratio_',\n",
       "       'save_ratio_', 'click_conversion', 'clickconversion_diff',\n",
       "       'add_conversion', 'addconversion_diff', 'save_conversion',\n",
       "       'saveconversion_diff', 'index', 'unique_item', 'unique_cat',\n",
       "       'unique_seller', 'unique_brand', 'unique_active_day', 'day_count',\n",
       "       'month_count', 'day_norm', 'rep_buyer', 'click_y', 'cart', 'buy_y',\n",
       "       'fav', 'sellerTotalAction', 'click_to_buy_ratio', 'cart_to_buy_ratio',\n",
       "       'fav_to_buy_ratio', 'su_click', 'su_cart', 'su_buy', 'su_fav',\n",
       "       'item_count', 'cat_count', 'brand_count', 'item_ratio', 'cat_ratio',\n",
       "       'brand_ratio', 'click_ratio', 'cart_ratio', 'buy_ratio', 'fav_ratio'],\n",
       "      dtype='object')"
      ]
     },
     "execution_count": 17,
     "metadata": {},
     "output_type": "execute_result"
    }
   ],
   "source": [
    "feature.columns"
   ]
  },
  {
   "cell_type": "code",
   "execution_count": 18,
   "metadata": {},
   "outputs": [],
   "source": [
    "feature_list = list(feature.columns)"
   ]
  },
  {
   "cell_type": "code",
   "execution_count": 19,
   "metadata": {},
   "outputs": [],
   "source": [
    "# feature = np.array(feature)"
   ]
  },
  {
   "cell_type": "code",
   "execution_count": 20,
   "metadata": {},
   "outputs": [],
   "source": [
    "X_train, X_test, y_train, y_test = train_test_split(\n",
    "     feature,label, test_size=0.33, random_state=42, shuffle=True)"
   ]
  },
  {
   "cell_type": "markdown",
   "metadata": {},
   "source": [
    "# RF"
   ]
  },
  {
   "cell_type": "code",
   "execution_count": 21,
   "metadata": {},
   "outputs": [
    {
     "name": "stderr",
     "output_type": "stream",
     "text": [
      "/anaconda3/envs/myEnv3/lib/python3.6/site-packages/sklearn/model_selection/_split.py:2053: FutureWarning: You should specify a value for 'cv' instead of relying on the default value. The default value will change from 3 to 5 in version 0.22.\n",
      "  warnings.warn(CV_WARNING, FutureWarning)\n",
      "/anaconda3/envs/myEnv3/lib/python3.6/site-packages/sklearn/model_selection/_split.py:2053: FutureWarning: You should specify a value for 'cv' instead of relying on the default value. The default value will change from 3 to 5 in version 0.22.\n",
      "  warnings.warn(CV_WARNING, FutureWarning)\n",
      "/anaconda3/envs/myEnv3/lib/python3.6/site-packages/sklearn/model_selection/_split.py:2053: FutureWarning: You should specify a value for 'cv' instead of relying on the default value. The default value will change from 3 to 5 in version 0.22.\n",
      "  warnings.warn(CV_WARNING, FutureWarning)\n",
      "/anaconda3/envs/myEnv3/lib/python3.6/site-packages/sklearn/model_selection/_split.py:2053: FutureWarning: You should specify a value for 'cv' instead of relying on the default value. The default value will change from 3 to 5 in version 0.22.\n",
      "  warnings.warn(CV_WARNING, FutureWarning)\n",
      "/anaconda3/envs/myEnv3/lib/python3.6/site-packages/sklearn/model_selection/_split.py:2053: FutureWarning: You should specify a value for 'cv' instead of relying on the default value. The default value will change from 3 to 5 in version 0.22.\n",
      "  warnings.warn(CV_WARNING, FutureWarning)\n",
      "/anaconda3/envs/myEnv3/lib/python3.6/site-packages/sklearn/model_selection/_split.py:2053: FutureWarning: You should specify a value for 'cv' instead of relying on the default value. The default value will change from 3 to 5 in version 0.22.\n",
      "  warnings.warn(CV_WARNING, FutureWarning)\n",
      "/anaconda3/envs/myEnv3/lib/python3.6/site-packages/sklearn/model_selection/_split.py:2053: FutureWarning: You should specify a value for 'cv' instead of relying on the default value. The default value will change from 3 to 5 in version 0.22.\n",
      "  warnings.warn(CV_WARNING, FutureWarning)\n",
      "/anaconda3/envs/myEnv3/lib/python3.6/site-packages/sklearn/model_selection/_split.py:2053: FutureWarning: You should specify a value for 'cv' instead of relying on the default value. The default value will change from 3 to 5 in version 0.22.\n",
      "  warnings.warn(CV_WARNING, FutureWarning)\n",
      "/anaconda3/envs/myEnv3/lib/python3.6/site-packages/sklearn/model_selection/_split.py:2053: FutureWarning: You should specify a value for 'cv' instead of relying on the default value. The default value will change from 3 to 5 in version 0.22.\n",
      "  warnings.warn(CV_WARNING, FutureWarning)\n",
      "/anaconda3/envs/myEnv3/lib/python3.6/site-packages/sklearn/model_selection/_split.py:2053: FutureWarning: You should specify a value for 'cv' instead of relying on the default value. The default value will change from 3 to 5 in version 0.22.\n",
      "  warnings.warn(CV_WARNING, FutureWarning)\n"
     ]
    },
    {
     "name": "stdout",
     "output_type": "stream",
     "text": [
      "The average out sample: 0.938598\n",
      "{'n_estimators': 6}\n"
     ]
    }
   ],
   "source": [
    "from sklearn.ensemble import RandomForestClassifier\n",
    "OS=[]\n",
    "for i in range(10):\n",
    "    param_grid = {'n_estimators':range(1,51,5)}\n",
    "    rf = RandomForestClassifier(n_jobs=-1,max_leaf_nodes=10)\n",
    "    gs = GridSearchCV(rf,param_grid=param_grid,scoring='accuracy')\n",
    "    rs = gs.fit(X_train,y_train)\n",
    "    pred=rs.predict_proba(X_test)[:,1]\n",
    "    OS.append(rs.score(X_test,y_test))\n",
    "print(\"The average out sample: %f\"%(np.mean(OS)))\n",
    "print(rs.best_params_)"
   ]
  },
  {
   "cell_type": "code",
   "execution_count": 30,
   "metadata": {},
   "outputs": [
    {
     "name": "stdout",
     "output_type": "stream",
     "text": [
      "[0.553121187604412, 0.5861383318958606, 0.5831935250486481, 0.5875243514917943, 0.5893489262456211, 0.5872499868984797, 0.5889891374660019, 0.5888465857248487, 0.5875041999703904, 0.5888532795312721]\n"
     ]
    }
   ],
   "source": [
    "from sklearn.metrics import roc_auc_score\n",
    "AUC=[]\n",
    "for i in range(1,51,5):\n",
    "    rf = RandomForestClassifier(n_estimators=i, n_jobs=-1,max_leaf_nodes=10)\n",
    "    rf.fit(X_train, y_train)\n",
    "    pred=rf.predict_proba(X_test)[:,1]\n",
    "    AUC.append(roc_auc_score(np.array(y_test),pred))\n",
    "print (AUC)"
   ]
  },
  {
   "cell_type": "code",
   "execution_count": 31,
   "metadata": {},
   "outputs": [
    {
     "data": {
      "image/png": "[encoded data removed]",
      "text/plain": [
       "<Figure size 504x360 with 1 Axes>"
      ]
     },
     "metadata": {
      "needs_background": "light"
     },
     "output_type": "display_data"
    }
   ],
   "source": [
    "import matplotlib.pylab as plt\n",
    "plt.figure(figsize=(7,5))\n",
    "plt.plot(range(1,51,5),AUC)\n",
    "plt.xlabel(\"Number of trees in forest\")\n",
    "plt.ylabel(\"OS_AUC\")\n",
    "plt.title(\"AUC vs num_estimators\")\n",
    "plt.xlim(1,51)\n",
    "plt.show()"
   ]
  },
  {
   "cell_type": "code",
   "execution_count": 48,
   "metadata": {},
   "outputs": [
    {
     "name": "stderr",
     "output_type": "stream",
     "text": [
      "/anaconda3/envs/myEnv3/lib/python3.6/site-packages/sklearn/model_selection/_split.py:2053: FutureWarning: You should specify a value for 'cv' instead of relying on the default value. The default value will change from 3 to 5 in version 0.22.\n",
      "  warnings.warn(CV_WARNING, FutureWarning)\n"
     ]
    },
    {
     "name": "stdout",
     "output_type": "stream",
     "text": [
      "{'max_depth': 8}\n",
      "0.6085469373760968\n"
     ]
    }
   ],
   "source": [
    "param_grid = {'max_depth':range(1,11)}\n",
    "dt=RandomForestClassifier(n_estimators = 6)\n",
    "gr=GridSearchCV(dt,param_grid=param_grid,scoring='roc_auc')\n",
    "rs=gr.fit(X_train,y_train)\n",
    "print (rs.best_params_)\n",
    "print (roc_auc_score(np.array(y_test),rs.predict_proba(X_test)[:,1]))"
   ]
  },
  {
   "cell_type": "code",
   "execution_count": 55,
   "metadata": {},
   "outputs": [],
   "source": [
    "dt=RandomForestClassifier(n_estimators = 6, max_depth = 8).fit(X_train,y_train)"
   ]
  },
  {
   "cell_type": "code",
   "execution_count": 56,
   "metadata": {},
   "outputs": [
    {
     "data": {
      "text/plain": [
       "0.938553842970932"
      ]
     },
     "execution_count": 56,
     "metadata": {},
     "output_type": "execute_result"
    }
   ],
   "source": [
    "dt.score(X_test,y_test)"
   ]
  },
  {
   "cell_type": "code",
   "execution_count": 57,
   "metadata": {},
   "outputs": [
    {
     "data": {
      "text/plain": [
       "0.6085469373760968"
      ]
     },
     "execution_count": 57,
     "metadata": {},
     "output_type": "execute_result"
    }
   ],
   "source": [
    "roc_auc_score(np.array(y_test),rs.predict_proba(X_test)[:,1])"
   ]
  },
  {
   "cell_type": "code",
   "execution_count": 52,
   "metadata": {},
   "outputs": [
    {
     "data": {
      "text/html": [
       "<div>\n",
       "<style scoped>\n",
       "    .dataframe tbody tr th:only-of-type {\n",
       "        vertical-align: middle;\n",
       "    }\n",
       "\n",
       "    .dataframe tbody tr th {\n",
       "        vertical-align: top;\n",
       "    }\n",
       "\n",
       "    .dataframe thead th {\n",
       "        text-align: right;\n",
       "    }\n",
       "</style>\n",
       "<table border=\"1\" class=\"dataframe\">\n",
       "  <thead>\n",
       "    <tr style=\"text-align: right;\">\n",
       "      <th></th>\n",
       "      <th>variables</th>\n",
       "      <th>importance</th>\n",
       "    </tr>\n",
       "  </thead>\n",
       "  <tbody>\n",
       "    <tr>\n",
       "      <th>29</th>\n",
       "      <td>buy_y</td>\n",
       "      <td>0.042306</td>\n",
       "    </tr>\n",
       "    <tr>\n",
       "      <th>4</th>\n",
       "      <td>buy_x</td>\n",
       "      <td>0.0376613</td>\n",
       "    </tr>\n",
       "    <tr>\n",
       "      <th>33</th>\n",
       "      <td>cart_to_buy_ratio</td>\n",
       "      <td>0.0375669</td>\n",
       "    </tr>\n",
       "    <tr>\n",
       "      <th>40</th>\n",
       "      <td>cat_count</td>\n",
       "      <td>0.0331218</td>\n",
       "    </tr>\n",
       "    <tr>\n",
       "      <th>43</th>\n",
       "      <td>cat_ratio</td>\n",
       "      <td>0.0310929</td>\n",
       "    </tr>\n",
       "    <tr>\n",
       "      <th>25</th>\n",
       "      <td>day_norm</td>\n",
       "      <td>0.0307006</td>\n",
       "    </tr>\n",
       "    <tr>\n",
       "      <th>13</th>\n",
       "      <td>add_conversion</td>\n",
       "      <td>0.0306623</td>\n",
       "    </tr>\n",
       "    <tr>\n",
       "      <th>22</th>\n",
       "      <td>unique_active_day</td>\n",
       "      <td>0.0297135</td>\n",
       "    </tr>\n",
       "    <tr>\n",
       "      <th>18</th>\n",
       "      <td>unique_item</td>\n",
       "      <td>0.0291927</td>\n",
       "    </tr>\n",
       "    <tr>\n",
       "      <th>12</th>\n",
       "      <td>clickconversion_diff</td>\n",
       "      <td>0.0286293</td>\n",
       "    </tr>\n",
       "  </tbody>\n",
       "</table>\n",
       "</div>"
      ],
      "text/plain": [
       "               variables importance\n",
       "29                 buy_y   0.042306\n",
       "4                  buy_x  0.0376613\n",
       "33     cart_to_buy_ratio  0.0375669\n",
       "40             cat_count  0.0331218\n",
       "43             cat_ratio  0.0310929\n",
       "25              day_norm  0.0307006\n",
       "13        add_conversion  0.0306623\n",
       "22     unique_active_day  0.0297135\n",
       "18           unique_item  0.0291927\n",
       "12  clickconversion_diff  0.0286293"
      ]
     },
     "execution_count": 52,
     "metadata": {},
     "output_type": "execute_result"
    }
   ],
   "source": [
    "dt = RandomForestClassifier(max_depth=8,n_estimators=6)\n",
    "dt.fit(X_train, y_train)\n",
    "Feature_importance=pd.DataFrame([list(X_train.columns),list(dt.feature_importances_)]).T\n",
    "Feature_importance.columns=[\"variables\",\"importance\"]\n",
    "\n",
    "# list the top 5 most important features in order\n",
    "Feature_importance.sort_values(by=\"importance\",ascending=False).iloc[:10,:]"
   ]
  },
  {
   "cell_type": "code",
   "execution_count": 53,
   "metadata": {},
   "outputs": [
    {
     "name": "stdout",
     "output_type": "stream",
     "text": [
      "The AUC score for this simple model with 10 features is 0.5869953778442472\n"
     ]
    }
   ],
   "source": [
    "X_train_simple=X_train.loc[:,[\"buy_y\",\"buy_x\",\"cart_to_buy_ratio\",\"cat_count\",\"cat_ratio\",\"day_norm\",\"add_conversion\",\n",
    "                             \"unique_active_day\",\"unique_item\",\"clickconversion_diff\"]]\n",
    "X_test_simple=X_test.loc[:,[\"buy_y\",\"buy_x\",\"cart_to_buy_ratio\",\"cat_count\",\"cat_ratio\",\"day_norm\",\"add_conversion\",\n",
    "                             \"unique_active_day\",\"unique_item\",\"clickconversion_diff\"]]\n",
    "\n",
    "# Now let's see the performance of this simple model.\n",
    "dt = RandomForestClassifier(max_depth=7,n_estimators = 6)\n",
    "dt.fit(X_train_simple, y_train)\n",
    "print (\"The AUC score for this simple model with 10 features is\",roc_auc_score(y_test,dt.predict_proba(X_test_simple)[:,1]))"
   ]
  },
  {
   "cell_type": "code",
   "execution_count": 54,
   "metadata": {},
   "outputs": [
    {
     "data": {
      "text/plain": [
       "0.9385981764175619"
      ]
     },
     "execution_count": 54,
     "metadata": {},
     "output_type": "execute_result"
    }
   ],
   "source": [
    "dt.score(X_test_simple,y_test)"
   ]
  },
  {
   "cell_type": "markdown",
   "metadata": {},
   "source": [
    "# NB"
   ]
  },
  {
   "cell_type": "code",
   "execution_count": 22,
   "metadata": {},
   "outputs": [
    {
     "name": "stdout",
     "output_type": "stream",
     "text": [
      "In sample prediction accuracy: 0.8341679647125617\n",
      "Out of sample prediction accuracy: 0.8350204672745275\n"
     ]
    }
   ],
   "source": [
    "#NB\n",
    "from sklearn.naive_bayes import GaussianNB\n",
    "gnb = GaussianNB()\n",
    "trained_model = gnb.fit(X_train,y_train)\n",
    "y_pred_train = trained_model.predict_proba(X_train)[:,1]\n",
    "y_pred_test = trained_model.predict_proba(X_test)[:,1]\n",
    "\n",
    "# measure accuracy for the binary prediction task\n",
    "print ('In sample prediction accuracy:',1.0*sum((y_pred_train>0.5)==y_train)/len(y_train))\n",
    "print ('Out of sample prediction accuracy:',1.0*sum((y_pred_test>0.5)==y_test)/len(y_test))"
   ]
  },
  {
   "cell_type": "markdown",
   "metadata": {},
   "source": [
    "# Feature Selection"
   ]
  },
  {
   "cell_type": "code",
   "execution_count": 60,
   "metadata": {},
   "outputs": [],
   "source": [
    "from sklearn.linear_model import LogisticRegression"
   ]
  },
  {
   "cell_type": "code",
   "execution_count": 61,
   "metadata": {
    "collapsed": true
   },
   "outputs": [
    {
     "name": "stderr",
     "output_type": "stream",
     "text": [
      "/anaconda3/envs/myEnv3/lib/python3.6/site-packages/sklearn/linear_model/logistic.py:433: FutureWarning: Default solver will be changed to 'lbfgs' in 0.22. Specify a solver to silence this warning.\n",
      "  FutureWarning)\n",
      "/anaconda3/envs/myEnv3/lib/python3.6/site-packages/sklearn/linear_model/logistic.py:433: FutureWarning: Default solver will be changed to 'lbfgs' in 0.22. Specify a solver to silence this warning.\n",
      "  FutureWarning)\n",
      "/anaconda3/envs/myEnv3/lib/python3.6/site-packages/sklearn/linear_model/logistic.py:433: FutureWarning: Default solver will be changed to 'lbfgs' in 0.22. Specify a solver to silence this warning.\n",
      "  FutureWarning)\n",
      "/anaconda3/envs/myEnv3/lib/python3.6/site-packages/sklearn/linear_model/logistic.py:433: FutureWarning: Default solver will be changed to 'lbfgs' in 0.22. Specify a solver to silence this warning.\n",
      "  FutureWarning)\n",
      "/anaconda3/envs/myEnv3/lib/python3.6/site-packages/sklearn/linear_model/logistic.py:433: FutureWarning: Default solver will be changed to 'lbfgs' in 0.22. Specify a solver to silence this warning.\n",
      "  FutureWarning)\n",
      "/anaconda3/envs/myEnv3/lib/python3.6/site-packages/sklearn/linear_model/logistic.py:433: FutureWarning: Default solver will be changed to 'lbfgs' in 0.22. Specify a solver to silence this warning.\n",
      "  FutureWarning)\n",
      "/anaconda3/envs/myEnv3/lib/python3.6/site-packages/sklearn/linear_model/logistic.py:433: FutureWarning: Default solver will be changed to 'lbfgs' in 0.22. Specify a solver to silence this warning.\n",
      "  FutureWarning)\n",
      "/anaconda3/envs/myEnv3/lib/python3.6/site-packages/sklearn/linear_model/logistic.py:433: FutureWarning: Default solver will be changed to 'lbfgs' in 0.22. Specify a solver to silence this warning.\n",
      "  FutureWarning)\n",
      "/anaconda3/envs/myEnv3/lib/python3.6/site-packages/sklearn/linear_model/logistic.py:433: FutureWarning: Default solver will be changed to 'lbfgs' in 0.22. Specify a solver to silence this warning.\n",
      "  FutureWarning)\n",
      "/anaconda3/envs/myEnv3/lib/python3.6/site-packages/sklearn/linear_model/logistic.py:433: FutureWarning: Default solver will be changed to 'lbfgs' in 0.22. Specify a solver to silence this warning.\n",
      "  FutureWarning)\n",
      "/anaconda3/envs/myEnv3/lib/python3.6/site-packages/sklearn/linear_model/logistic.py:433: FutureWarning: Default solver will be changed to 'lbfgs' in 0.22. Specify a solver to silence this warning.\n",
      "  FutureWarning)\n",
      "/anaconda3/envs/myEnv3/lib/python3.6/site-packages/sklearn/linear_model/logistic.py:433: FutureWarning: Default solver will be changed to 'lbfgs' in 0.22. Specify a solver to silence this warning.\n",
      "  FutureWarning)\n",
      "/anaconda3/envs/myEnv3/lib/python3.6/site-packages/sklearn/linear_model/logistic.py:433: FutureWarning: Default solver will be changed to 'lbfgs' in 0.22. Specify a solver to silence this warning.\n",
      "  FutureWarning)\n",
      "/anaconda3/envs/myEnv3/lib/python3.6/site-packages/sklearn/linear_model/logistic.py:433: FutureWarning: Default solver will be changed to 'lbfgs' in 0.22. Specify a solver to silence this warning.\n",
      "  FutureWarning)\n",
      "/anaconda3/envs/myEnv3/lib/python3.6/site-packages/sklearn/linear_model/logistic.py:433: FutureWarning: Default solver will be changed to 'lbfgs' in 0.22. Specify a solver to silence this warning.\n",
      "  FutureWarning)\n",
      "/anaconda3/envs/myEnv3/lib/python3.6/site-packages/sklearn/linear_model/logistic.py:433: FutureWarning: Default solver will be changed to 'lbfgs' in 0.22. Specify a solver to silence this warning.\n",
      "  FutureWarning)\n",
      "/anaconda3/envs/myEnv3/lib/python3.6/site-packages/sklearn/linear_model/logistic.py:433: FutureWarning: Default solver will be changed to 'lbfgs' in 0.22. Specify a solver to silence this warning.\n",
      "  FutureWarning)\n",
      "/anaconda3/envs/myEnv3/lib/python3.6/site-packages/sklearn/linear_model/logistic.py:433: FutureWarning: Default solver will be changed to 'lbfgs' in 0.22. Specify a solver to silence this warning.\n",
      "  FutureWarning)\n",
      "/anaconda3/envs/myEnv3/lib/python3.6/site-packages/sklearn/linear_model/logistic.py:433: FutureWarning: Default solver will be changed to 'lbfgs' in 0.22. Specify a solver to silence this warning.\n",
      "  FutureWarning)\n",
      "/anaconda3/envs/myEnv3/lib/python3.6/site-packages/sklearn/linear_model/logistic.py:433: FutureWarning: Default solver will be changed to 'lbfgs' in 0.22. Specify a solver to silence this warning.\n",
      "  FutureWarning)\n",
      "/anaconda3/envs/myEnv3/lib/python3.6/site-packages/sklearn/linear_model/logistic.py:433: FutureWarning: Default solver will be changed to 'lbfgs' in 0.22. Specify a solver to silence this warning.\n",
      "  FutureWarning)\n",
      "/anaconda3/envs/myEnv3/lib/python3.6/site-packages/sklearn/linear_model/logistic.py:433: FutureWarning: Default solver will be changed to 'lbfgs' in 0.22. Specify a solver to silence this warning.\n",
      "  FutureWarning)\n",
      "/anaconda3/envs/myEnv3/lib/python3.6/site-packages/sklearn/linear_model/logistic.py:433: FutureWarning: Default solver will be changed to 'lbfgs' in 0.22. Specify a solver to silence this warning.\n",
      "  FutureWarning)\n",
      "/anaconda3/envs/myEnv3/lib/python3.6/site-packages/sklearn/linear_model/logistic.py:433: FutureWarning: Default solver will be changed to 'lbfgs' in 0.22. Specify a solver to silence this warning.\n",
      "  FutureWarning)\n",
      "/anaconda3/envs/myEnv3/lib/python3.6/site-packages/sklearn/linear_model/logistic.py:433: FutureWarning: Default solver will be changed to 'lbfgs' in 0.22. Specify a solver to silence this warning.\n",
      "  FutureWarning)\n",
      "/anaconda3/envs/myEnv3/lib/python3.6/site-packages/sklearn/linear_model/logistic.py:433: FutureWarning: Default solver will be changed to 'lbfgs' in 0.22. Specify a solver to silence this warning.\n",
      "  FutureWarning)\n",
      "/anaconda3/envs/myEnv3/lib/python3.6/site-packages/sklearn/linear_model/logistic.py:433: FutureWarning: Default solver will be changed to 'lbfgs' in 0.22. Specify a solver to silence this warning.\n",
      "  FutureWarning)\n",
      "/anaconda3/envs/myEnv3/lib/python3.6/site-packages/sklearn/linear_model/logistic.py:433: FutureWarning: Default solver will be changed to 'lbfgs' in 0.22. Specify a solver to silence this warning.\n",
      "  FutureWarning)\n",
      "/anaconda3/envs/myEnv3/lib/python3.6/site-packages/sklearn/linear_model/logistic.py:433: FutureWarning: Default solver will be changed to 'lbfgs' in 0.22. Specify a solver to silence this warning.\n",
      "  FutureWarning)\n",
      "/anaconda3/envs/myEnv3/lib/python3.6/site-packages/sklearn/linear_model/logistic.py:433: FutureWarning: Default solver will be changed to 'lbfgs' in 0.22. Specify a solver to silence this warning.\n",
      "  FutureWarning)\n",
      "/anaconda3/envs/myEnv3/lib/python3.6/site-packages/sklearn/linear_model/logistic.py:433: FutureWarning: Default solver will be changed to 'lbfgs' in 0.22. Specify a solver to silence this warning.\n",
      "  FutureWarning)\n",
      "/anaconda3/envs/myEnv3/lib/python3.6/site-packages/sklearn/linear_model/logistic.py:433: FutureWarning: Default solver will be changed to 'lbfgs' in 0.22. Specify a solver to silence this warning.\n",
      "  FutureWarning)\n",
      "/anaconda3/envs/myEnv3/lib/python3.6/site-packages/sklearn/linear_model/logistic.py:433: FutureWarning: Default solver will be changed to 'lbfgs' in 0.22. Specify a solver to silence this warning.\n",
      "  FutureWarning)\n",
      "/anaconda3/envs/myEnv3/lib/python3.6/site-packages/sklearn/linear_model/logistic.py:433: FutureWarning: Default solver will be changed to 'lbfgs' in 0.22. Specify a solver to silence this warning.\n",
      "  FutureWarning)\n",
      "/anaconda3/envs/myEnv3/lib/python3.6/site-packages/sklearn/linear_model/logistic.py:433: FutureWarning: Default solver will be changed to 'lbfgs' in 0.22. Specify a solver to silence this warning.\n",
      "  FutureWarning)\n",
      "/anaconda3/envs/myEnv3/lib/python3.6/site-packages/sklearn/linear_model/logistic.py:433: FutureWarning: Default solver will be changed to 'lbfgs' in 0.22. Specify a solver to silence this warning.\n",
      "  FutureWarning)\n",
      "/anaconda3/envs/myEnv3/lib/python3.6/site-packages/sklearn/linear_model/logistic.py:433: FutureWarning: Default solver will be changed to 'lbfgs' in 0.22. Specify a solver to silence this warning.\n",
      "  FutureWarning)\n",
      "/anaconda3/envs/myEnv3/lib/python3.6/site-packages/sklearn/linear_model/logistic.py:433: FutureWarning: Default solver will be changed to 'lbfgs' in 0.22. Specify a solver to silence this warning.\n",
      "  FutureWarning)\n",
      "/anaconda3/envs/myEnv3/lib/python3.6/site-packages/sklearn/linear_model/logistic.py:433: FutureWarning: Default solver will be changed to 'lbfgs' in 0.22. Specify a solver to silence this warning.\n",
      "  FutureWarning)\n"
     ]
    },
    {
     "name": "stderr",
     "output_type": "stream",
     "text": [
      "/anaconda3/envs/myEnv3/lib/python3.6/site-packages/sklearn/linear_model/logistic.py:433: FutureWarning: Default solver will be changed to 'lbfgs' in 0.22. Specify a solver to silence this warning.\n",
      "  FutureWarning)\n",
      "/anaconda3/envs/myEnv3/lib/python3.6/site-packages/sklearn/linear_model/logistic.py:433: FutureWarning: Default solver will be changed to 'lbfgs' in 0.22. Specify a solver to silence this warning.\n",
      "  FutureWarning)\n",
      "/anaconda3/envs/myEnv3/lib/python3.6/site-packages/sklearn/linear_model/logistic.py:433: FutureWarning: Default solver will be changed to 'lbfgs' in 0.22. Specify a solver to silence this warning.\n",
      "  FutureWarning)\n",
      "/anaconda3/envs/myEnv3/lib/python3.6/site-packages/sklearn/linear_model/logistic.py:433: FutureWarning: Default solver will be changed to 'lbfgs' in 0.22. Specify a solver to silence this warning.\n",
      "  FutureWarning)\n",
      "/anaconda3/envs/myEnv3/lib/python3.6/site-packages/sklearn/linear_model/logistic.py:433: FutureWarning: Default solver will be changed to 'lbfgs' in 0.22. Specify a solver to silence this warning.\n",
      "  FutureWarning)\n",
      "/anaconda3/envs/myEnv3/lib/python3.6/site-packages/sklearn/linear_model/logistic.py:433: FutureWarning: Default solver will be changed to 'lbfgs' in 0.22. Specify a solver to silence this warning.\n",
      "  FutureWarning)\n",
      "/anaconda3/envs/myEnv3/lib/python3.6/site-packages/sklearn/linear_model/logistic.py:433: FutureWarning: Default solver will be changed to 'lbfgs' in 0.22. Specify a solver to silence this warning.\n",
      "  FutureWarning)\n",
      "/anaconda3/envs/myEnv3/lib/python3.6/site-packages/sklearn/linear_model/logistic.py:433: FutureWarning: Default solver will be changed to 'lbfgs' in 0.22. Specify a solver to silence this warning.\n",
      "  FutureWarning)\n"
     ]
    }
   ],
   "source": [
    "model = LogisticRegression()\n",
    "rfe = RFE(model, 3)\n",
    "rfe = rfe.fit(X_train, y_train)"
   ]
  },
  {
   "cell_type": "code",
   "execution_count": 62,
   "metadata": {},
   "outputs": [
    {
     "name": "stdout",
     "output_type": "stream",
     "text": [
      "[False False False False False False False False False False False False\n",
      " False False False False False False False False False False False False\n",
      " False False False False False  True False False False False False False\n",
      " False False False False False False False False False False  True  True\n",
      " False]\n",
      "[24 34 25 33 27 40 30 44 45 36 31 35 29 22 13 38 37 41 16 26  4 28 17  3\n",
      " 20 19 42 11  2  1  8 14  9 12 10  6  5 21 18 15 46 43 23 47 39  7  1  1\n",
      " 32]\n"
     ]
    }
   ],
   "source": [
    "print(rfe.support_)\n",
    "print(rfe.ranking_)"
   ]
  },
  {
   "cell_type": "code",
   "execution_count": 63,
   "metadata": {},
   "outputs": [],
   "source": [
    "from sklearn.ensemble import ExtraTreesClassifier"
   ]
  },
  {
   "cell_type": "code",
   "execution_count": 64,
   "metadata": {},
   "outputs": [
    {
     "name": "stderr",
     "output_type": "stream",
     "text": [
      "/anaconda3/envs/myEnv3/lib/python3.6/site-packages/sklearn/ensemble/forest.py:246: FutureWarning: The default value of n_estimators will change from 10 in version 0.20 to 100 in 0.22.\n",
      "  \"10 in version 0.20 to 100 in 0.22.\", FutureWarning)\n"
     ]
    },
    {
     "name": "stdout",
     "output_type": "stream",
     "text": [
      "[0.03164105 0.01784191 0.03258429 0.006422   0.02884455 0.02658678\n",
      " 0.032914   0.03292404 0.00648047 0.03334198 0.02818721 0.03158748\n",
      " 0.03261461 0.02863904 0.02885697 0.03098759 0.03162159 0.03776724\n",
      " 0.03334679 0.03339653 0.03367769 0.03342649 0.03149825 0.03189754\n",
      " 0.03408375 0.03091435 0.00664172 0.01120683 0.01080435 0.01168354\n",
      " 0.01066321 0.01112675 0.01077566 0.01170021 0.01095743 0.01063584\n",
      " 0.01049467 0.01048666 0.01059993 0.01185081 0.01069349 0.00675852\n",
      " 0.01114135 0.01041397 0.00697007 0.01110448 0.01061278 0.01014609\n",
      " 0.01044747]\n"
     ]
    }
   ],
   "source": [
    "model = ExtraTreesClassifier()\n",
    "model.fit(X_train, y_train)\n",
    "print(model.feature_importances_)"
   ]
  },
  {
   "cell_type": "code",
   "execution_count": null,
   "metadata": {},
   "outputs": [],
   "source": []
  }
 ],
 "metadata": {
  "kernelspec": {
   "display_name": "myEnv3",
   "language": "python",
   "name": "myenv3"
  },
  "language_info": {
   "codemirror_mode": {
    "name": "ipython",
    "version": 3
   },
   "file_extension": ".py",
   "mimetype": "text/x-python",
   "name": "python",
   "nbconvert_exporter": "python",
   "pygments_lexer": "ipython3",
   "version": "3.6.8"
  }
 },
 "nbformat": 4,
 "nbformat_minor": 2
}
