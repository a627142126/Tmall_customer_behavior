{
 "cells": [
  {
   "cell_type": "markdown",
   "metadata": {},
   "source": [
    "# Part 2 Feature Engineering"
   ]
  },
  {
   "cell_type": "markdown",
   "metadata": {},
   "source": [
    "## 2.5 Repeat behavior"
   ]
  },
  {
   "cell_type": "code",
   "execution_count": 1,
   "metadata": {},
   "outputs": [],
   "source": [
    "import pandas as pd\n",
    "import numpy as np"
   ]
  },
  {
   "cell_type": "code",
   "execution_count": 2,
   "metadata": {},
   "outputs": [
    {
     "data": {
      "text/html": [
       "<div>\n",
       "<style scoped>\n",
       "    .dataframe tbody tr th:only-of-type {\n",
       "        vertical-align: middle;\n",
       "    }\n",
       "\n",
       "    .dataframe tbody tr th {\n",
       "        vertical-align: top;\n",
       "    }\n",
       "\n",
       "    .dataframe thead th {\n",
       "        text-align: right;\n",
       "    }\n",
       "</style>\n",
       "<table border=\"1\" class=\"dataframe\">\n",
       "  <thead>\n",
       "    <tr style=\"text-align: right;\">\n",
       "      <th></th>\n",
       "      <th>Unnamed: 0</th>\n",
       "      <th>user_id</th>\n",
       "      <th>item_id</th>\n",
       "      <th>cat_id</th>\n",
       "      <th>seller_id</th>\n",
       "      <th>brand_id</th>\n",
       "      <th>time_stamp</th>\n",
       "      <th>action_type</th>\n",
       "    </tr>\n",
       "  </thead>\n",
       "  <tbody>\n",
       "    <tr>\n",
       "      <th>0</th>\n",
       "      <td>0</td>\n",
       "      <td>328862</td>\n",
       "      <td>323294</td>\n",
       "      <td>833</td>\n",
       "      <td>2882</td>\n",
       "      <td>2661.0</td>\n",
       "      <td>829</td>\n",
       "      <td>0</td>\n",
       "    </tr>\n",
       "    <tr>\n",
       "      <th>1</th>\n",
       "      <td>1</td>\n",
       "      <td>328862</td>\n",
       "      <td>844400</td>\n",
       "      <td>1271</td>\n",
       "      <td>2882</td>\n",
       "      <td>2661.0</td>\n",
       "      <td>829</td>\n",
       "      <td>0</td>\n",
       "    </tr>\n",
       "    <tr>\n",
       "      <th>2</th>\n",
       "      <td>2</td>\n",
       "      <td>328862</td>\n",
       "      <td>575153</td>\n",
       "      <td>1271</td>\n",
       "      <td>2882</td>\n",
       "      <td>2661.0</td>\n",
       "      <td>829</td>\n",
       "      <td>0</td>\n",
       "    </tr>\n",
       "    <tr>\n",
       "      <th>3</th>\n",
       "      <td>3</td>\n",
       "      <td>328862</td>\n",
       "      <td>996875</td>\n",
       "      <td>1271</td>\n",
       "      <td>2882</td>\n",
       "      <td>2661.0</td>\n",
       "      <td>829</td>\n",
       "      <td>0</td>\n",
       "    </tr>\n",
       "    <tr>\n",
       "      <th>4</th>\n",
       "      <td>4</td>\n",
       "      <td>328862</td>\n",
       "      <td>1086186</td>\n",
       "      <td>1271</td>\n",
       "      <td>1253</td>\n",
       "      <td>1049.0</td>\n",
       "      <td>829</td>\n",
       "      <td>0</td>\n",
       "    </tr>\n",
       "  </tbody>\n",
       "</table>\n",
       "</div>"
      ],
      "text/plain": [
       "   Unnamed: 0  user_id  item_id  cat_id  seller_id  brand_id  time_stamp  \\\n",
       "0           0   328862   323294     833       2882    2661.0         829   \n",
       "1           1   328862   844400    1271       2882    2661.0         829   \n",
       "2           2   328862   575153    1271       2882    2661.0         829   \n",
       "3           3   328862   996875    1271       2882    2661.0         829   \n",
       "4           4   328862  1086186    1271       1253    1049.0         829   \n",
       "\n",
       "   action_type  \n",
       "0            0  \n",
       "1            0  \n",
       "2            0  \n",
       "3            0  \n",
       "4            0  "
      ]
     },
     "execution_count": 2,
     "metadata": {},
     "output_type": "execute_result"
    }
   ],
   "source": [
    "user_data = pd.read_csv('cleaned_raw/user_data.csv')\n",
    "user_data.head()"
   ]
  },
  {
   "cell_type": "markdown",
   "metadata": {},
   "source": [
    "### 2.5.1 For merchants: how many repeat buyers? What is the ratio of repeat buyer vs unique buyer for a certain merchant?  These are the features reflect the level of attractiveness "
   ]
  },
  {
   "cell_type": "code",
   "execution_count": 48,
   "metadata": {},
   "outputs": [
    {
     "data": {
      "text/html": [
       "<div>\n",
       "<style scoped>\n",
       "    .dataframe tbody tr th:only-of-type {\n",
       "        vertical-align: middle;\n",
       "    }\n",
       "\n",
       "    .dataframe tbody tr th {\n",
       "        vertical-align: top;\n",
       "    }\n",
       "\n",
       "    .dataframe thead th {\n",
       "        text-align: right;\n",
       "    }\n",
       "</style>\n",
       "<table border=\"1\" class=\"dataframe\">\n",
       "  <thead>\n",
       "    <tr style=\"text-align: right;\">\n",
       "      <th></th>\n",
       "      <th>seller_id</th>\n",
       "      <th>user_id</th>\n",
       "      <th>purchase_count</th>\n",
       "    </tr>\n",
       "  </thead>\n",
       "  <tbody>\n",
       "    <tr>\n",
       "      <th>0</th>\n",
       "      <td>1</td>\n",
       "      <td>406</td>\n",
       "      <td>21</td>\n",
       "    </tr>\n",
       "    <tr>\n",
       "      <th>1</th>\n",
       "      <td>1</td>\n",
       "      <td>56832</td>\n",
       "      <td>21</td>\n",
       "    </tr>\n",
       "    <tr>\n",
       "      <th>2</th>\n",
       "      <td>1</td>\n",
       "      <td>180072</td>\n",
       "      <td>20</td>\n",
       "    </tr>\n",
       "    <tr>\n",
       "      <th>3</th>\n",
       "      <td>1</td>\n",
       "      <td>339584</td>\n",
       "      <td>15</td>\n",
       "    </tr>\n",
       "    <tr>\n",
       "      <th>4</th>\n",
       "      <td>1</td>\n",
       "      <td>88181</td>\n",
       "      <td>14</td>\n",
       "    </tr>\n",
       "  </tbody>\n",
       "</table>\n",
       "</div>"
      ],
      "text/plain": [
       "   seller_id  user_id  purchase_count\n",
       "0          1      406              21\n",
       "1          1    56832              21\n",
       "2          1   180072              20\n",
       "3          1   339584              15\n",
       "4          1    88181              14"
      ]
     },
     "execution_count": 48,
     "metadata": {},
     "output_type": "execute_result"
    }
   ],
   "source": [
    "repeat_purchase = user_data[(user_data['action_type'] == 2) & (user_data['time_stamp'] < 1111)]\n",
    "repeat_purchase = repeat_purchase.groupby(['seller_id'])['user_id'].value_counts().to_frame()\n",
    "repeat_purchase.columns = ['purchase_count']\n",
    "repeat_purchase.reset_index(inplace=True)\n",
    "repeat_purchase.head()"
   ]
  },
  {
   "cell_type": "code",
   "execution_count": 49,
   "metadata": {},
   "outputs": [],
   "source": [
    "repeat_purchase_True = repeat_purchase[repeat_purchase['purchase_count'] > 1]\n",
    "repeat_buyer_label = repeat_purchase_True[['user_id']].drop_duplicates()\n",
    "repeat_count_each_seller = repeat_purchase_True.groupby(['seller_id'])['user_id'].nunique().reset_index()\n",
    "repeat_count_each_seller.columns = ['seller_id', 'repeat_user_num']\n",
    "all_seller_id = pd.DataFrame({'seller_id':range(1, 4997 ,1)})\n",
    "repeat_count_each_seller = pd.merge(all_seller_id, repeat_count_each_seller, how='left',on=['seller_id']).fillna(0)"
   ]
  },
  {
   "cell_type": "markdown",
   "metadata": {},
   "source": [
    "**this could reflect the attraction to repeat buyers**"
   ]
  },
  {
   "cell_type": "code",
   "execution_count": 50,
   "metadata": {},
   "outputs": [
    {
     "data": {
      "text/html": [
       "<div>\n",
       "<style scoped>\n",
       "    .dataframe tbody tr th:only-of-type {\n",
       "        vertical-align: middle;\n",
       "    }\n",
       "\n",
       "    .dataframe tbody tr th {\n",
       "        vertical-align: top;\n",
       "    }\n",
       "\n",
       "    .dataframe thead th {\n",
       "        text-align: right;\n",
       "    }\n",
       "</style>\n",
       "<table border=\"1\" class=\"dataframe\">\n",
       "  <thead>\n",
       "    <tr style=\"text-align: right;\">\n",
       "      <th></th>\n",
       "      <th>seller_id</th>\n",
       "      <th>repeat_user_num</th>\n",
       "    </tr>\n",
       "  </thead>\n",
       "  <tbody>\n",
       "    <tr>\n",
       "      <th>0</th>\n",
       "      <td>1</td>\n",
       "      <td>2214.0</td>\n",
       "    </tr>\n",
       "    <tr>\n",
       "      <th>1</th>\n",
       "      <td>2</td>\n",
       "      <td>4.0</td>\n",
       "    </tr>\n",
       "    <tr>\n",
       "      <th>2</th>\n",
       "      <td>3</td>\n",
       "      <td>2.0</td>\n",
       "    </tr>\n",
       "    <tr>\n",
       "      <th>3</th>\n",
       "      <td>4</td>\n",
       "      <td>48.0</td>\n",
       "    </tr>\n",
       "    <tr>\n",
       "      <th>4</th>\n",
       "      <td>5</td>\n",
       "      <td>14.0</td>\n",
       "    </tr>\n",
       "  </tbody>\n",
       "</table>\n",
       "</div>"
      ],
      "text/plain": [
       "   seller_id  repeat_user_num\n",
       "0          1           2214.0\n",
       "1          2              4.0\n",
       "2          3              2.0\n",
       "3          4             48.0\n",
       "4          5             14.0"
      ]
     },
     "execution_count": 50,
     "metadata": {},
     "output_type": "execute_result"
    }
   ],
   "source": [
    "repeat_count_each_seller.head()"
   ]
  },
  {
   "cell_type": "code",
   "execution_count": 52,
   "metadata": {},
   "outputs": [],
   "source": [
    "all_unique_user = repeat_purchase.groupby(['seller_id'])['user_id'].count().reset_index()\n",
    "repeat_m = pd.merge(repeat_count_each_seller, all_unique_user, on='seller_id' )\n",
    "repeat_m = repeat_m[['seller_id','repeat_user_num','user_id']]\n",
    "repeat_m = repeat_m.rename(columns={'user_id':'all_unique_user'})"
   ]
  },
  {
   "cell_type": "code",
   "execution_count": 56,
   "metadata": {},
   "outputs": [
    {
     "data": {
      "text/plain": [
       "seller_id            int64\n",
       "repeat_user_num    float64\n",
       "all_unique_user      int64\n",
       "dtype: object"
      ]
     },
     "execution_count": 56,
     "metadata": {},
     "output_type": "execute_result"
    }
   ],
   "source": [
    "repeat_m.dtypes"
   ]
  },
  {
   "cell_type": "code",
   "execution_count": 57,
   "metadata": {},
   "outputs": [],
   "source": [
    "repeat_m['att_ratio'] = repeat_m['repeat_user_num'] / repeat_m['all_unique_user'].astype(float)"
   ]
  },
  {
   "cell_type": "code",
   "execution_count": 167,
   "metadata": {},
   "outputs": [
    {
     "data": {
      "text/plain": [
       "(4990, 4)"
      ]
     },
     "execution_count": 167,
     "metadata": {},
     "output_type": "execute_result"
    }
   ],
   "source": [
    "repeat_m.shape"
   ]
  },
  {
   "cell_type": "code",
   "execution_count": 166,
   "metadata": {},
   "outputs": [],
   "source": [
    "repeat_m.to_csv('data_processed/repeat_merchant_result.csv')"
   ]
  },
  {
   "cell_type": "markdown",
   "metadata": {},
   "source": [
    "### 2.5.1 For users: in how many stores did they do repeat buying? What is the average repeat buying action interval?"
   ]
  },
  {
   "cell_type": "code",
   "execution_count": 71,
   "metadata": {},
   "outputs": [],
   "source": [
    "repeat_user = user_data[(user_data['action_type'] == 2) & (user_data['time_stamp'] < 1111)]"
   ]
  },
  {
   "cell_type": "code",
   "execution_count": 72,
   "metadata": {},
   "outputs": [
    {
     "data": {
      "text/html": [
       "<div>\n",
       "<style scoped>\n",
       "    .dataframe tbody tr th:only-of-type {\n",
       "        vertical-align: middle;\n",
       "    }\n",
       "\n",
       "    .dataframe tbody tr th {\n",
       "        vertical-align: top;\n",
       "    }\n",
       "\n",
       "    .dataframe thead th {\n",
       "        text-align: right;\n",
       "    }\n",
       "</style>\n",
       "<table border=\"1\" class=\"dataframe\">\n",
       "  <thead>\n",
       "    <tr style=\"text-align: right;\">\n",
       "      <th></th>\n",
       "      <th>Unnamed: 0</th>\n",
       "      <th>user_id</th>\n",
       "      <th>item_id</th>\n",
       "      <th>cat_id</th>\n",
       "      <th>seller_id</th>\n",
       "      <th>brand_id</th>\n",
       "      <th>time_stamp</th>\n",
       "      <th>action_type</th>\n",
       "    </tr>\n",
       "  </thead>\n",
       "  <tbody>\n",
       "    <tr>\n",
       "      <th>19</th>\n",
       "      <td>19</td>\n",
       "      <td>328862</td>\n",
       "      <td>81766</td>\n",
       "      <td>614</td>\n",
       "      <td>4605</td>\n",
       "      <td>7622.0</td>\n",
       "      <td>709</td>\n",
       "      <td>2</td>\n",
       "    </tr>\n",
       "    <tr>\n",
       "      <th>23</th>\n",
       "      <td>23</td>\n",
       "      <td>328862</td>\n",
       "      <td>853901</td>\n",
       "      <td>267</td>\n",
       "      <td>3073</td>\n",
       "      <td>8126.0</td>\n",
       "      <td>805</td>\n",
       "      <td>2</td>\n",
       "    </tr>\n",
       "    <tr>\n",
       "      <th>24</th>\n",
       "      <td>24</td>\n",
       "      <td>328862</td>\n",
       "      <td>1102596</td>\n",
       "      <td>267</td>\n",
       "      <td>3073</td>\n",
       "      <td>8126.0</td>\n",
       "      <td>805</td>\n",
       "      <td>2</td>\n",
       "    </tr>\n",
       "    <tr>\n",
       "      <th>25</th>\n",
       "      <td>25</td>\n",
       "      <td>328862</td>\n",
       "      <td>963870</td>\n",
       "      <td>267</td>\n",
       "      <td>3073</td>\n",
       "      <td>8126.0</td>\n",
       "      <td>805</td>\n",
       "      <td>2</td>\n",
       "    </tr>\n",
       "    <tr>\n",
       "      <th>26</th>\n",
       "      <td>26</td>\n",
       "      <td>328862</td>\n",
       "      <td>813647</td>\n",
       "      <td>267</td>\n",
       "      <td>3073</td>\n",
       "      <td>8126.0</td>\n",
       "      <td>805</td>\n",
       "      <td>2</td>\n",
       "    </tr>\n",
       "  </tbody>\n",
       "</table>\n",
       "</div>"
      ],
      "text/plain": [
       "    Unnamed: 0  user_id  item_id  cat_id  seller_id  brand_id  time_stamp  \\\n",
       "19          19   328862    81766     614       4605    7622.0         709   \n",
       "23          23   328862   853901     267       3073    8126.0         805   \n",
       "24          24   328862  1102596     267       3073    8126.0         805   \n",
       "25          25   328862   963870     267       3073    8126.0         805   \n",
       "26          26   328862   813647     267       3073    8126.0         805   \n",
       "\n",
       "    action_type  \n",
       "19            2  \n",
       "23            2  \n",
       "24            2  \n",
       "25            2  \n",
       "26            2  "
      ]
     },
     "execution_count": 72,
     "metadata": {},
     "output_type": "execute_result"
    }
   ],
   "source": [
    "repeat_user.head()"
   ]
  },
  {
   "cell_type": "code",
   "execution_count": 73,
   "metadata": {},
   "outputs": [
    {
     "data": {
      "text/html": [
       "<div>\n",
       "<style scoped>\n",
       "    .dataframe tbody tr th:only-of-type {\n",
       "        vertical-align: middle;\n",
       "    }\n",
       "\n",
       "    .dataframe tbody tr th {\n",
       "        vertical-align: top;\n",
       "    }\n",
       "\n",
       "    .dataframe thead th {\n",
       "        text-align: right;\n",
       "    }\n",
       "</style>\n",
       "<table border=\"1\" class=\"dataframe\">\n",
       "  <thead>\n",
       "    <tr style=\"text-align: right;\">\n",
       "      <th></th>\n",
       "      <th>Unnamed: 0</th>\n",
       "      <th>user_id</th>\n",
       "      <th>item_id</th>\n",
       "      <th>cat_id</th>\n",
       "      <th>seller_id</th>\n",
       "      <th>brand_id</th>\n",
       "      <th>time_stamp</th>\n",
       "      <th>action_type</th>\n",
       "    </tr>\n",
       "  </thead>\n",
       "  <tbody>\n",
       "    <tr>\n",
       "      <th>0</th>\n",
       "      <td>23288888</td>\n",
       "      <td>1</td>\n",
       "      <td>504149</td>\n",
       "      <td>1023</td>\n",
       "      <td>925</td>\n",
       "      <td>7402.0</td>\n",
       "      <td>1011</td>\n",
       "      <td>2</td>\n",
       "    </tr>\n",
       "    <tr>\n",
       "      <th>1</th>\n",
       "      <td>23288867</td>\n",
       "      <td>1</td>\n",
       "      <td>112203</td>\n",
       "      <td>1252</td>\n",
       "      <td>4026</td>\n",
       "      <td>1469.0</td>\n",
       "      <td>1021</td>\n",
       "      <td>2</td>\n",
       "    </tr>\n",
       "    <tr>\n",
       "      <th>2</th>\n",
       "      <td>26051110</td>\n",
       "      <td>2</td>\n",
       "      <td>644638</td>\n",
       "      <td>602</td>\n",
       "      <td>420</td>\n",
       "      <td>4953.0</td>\n",
       "      <td>626</td>\n",
       "      <td>2</td>\n",
       "    </tr>\n",
       "    <tr>\n",
       "      <th>3</th>\n",
       "      <td>26051111</td>\n",
       "      <td>2</td>\n",
       "      <td>1072591</td>\n",
       "      <td>1213</td>\n",
       "      <td>420</td>\n",
       "      <td>4953.0</td>\n",
       "      <td>626</td>\n",
       "      <td>2</td>\n",
       "    </tr>\n",
       "    <tr>\n",
       "      <th>4</th>\n",
       "      <td>26051112</td>\n",
       "      <td>2</td>\n",
       "      <td>239288</td>\n",
       "      <td>602</td>\n",
       "      <td>420</td>\n",
       "      <td>4953.0</td>\n",
       "      <td>626</td>\n",
       "      <td>2</td>\n",
       "    </tr>\n",
       "  </tbody>\n",
       "</table>\n",
       "</div>"
      ],
      "text/plain": [
       "   Unnamed: 0  user_id  item_id  cat_id  seller_id  brand_id  time_stamp  \\\n",
       "0    23288888        1   504149    1023        925    7402.0        1011   \n",
       "1    23288867        1   112203    1252       4026    1469.0        1021   \n",
       "2    26051110        2   644638     602        420    4953.0         626   \n",
       "3    26051111        2  1072591    1213        420    4953.0         626   \n",
       "4    26051112        2   239288     602        420    4953.0         626   \n",
       "\n",
       "   action_type  \n",
       "0            2  \n",
       "1            2  \n",
       "2            2  \n",
       "3            2  \n",
       "4            2  "
      ]
     },
     "execution_count": 73,
     "metadata": {},
     "output_type": "execute_result"
    }
   ],
   "source": [
    "repeat_user = repeat_user.sort_values(['user_id','seller_id','time_stamp']).reset_index(drop=True)\n",
    "repeat_user.head()"
   ]
  },
  {
   "cell_type": "code",
   "execution_count": 75,
   "metadata": {},
   "outputs": [],
   "source": [
    "repeat_buyer_ls = repeat_purchase_True['user_id'].unique()"
   ]
  },
  {
   "cell_type": "code",
   "execution_count": 76,
   "metadata": {},
   "outputs": [
    {
     "data": {
      "text/plain": [
       "array([   406,  56832, 180072, ..., 387267, 414417, 421872])"
      ]
     },
     "execution_count": 76,
     "metadata": {},
     "output_type": "execute_result"
    }
   ],
   "source": [
    "repeat_buyer_ls"
   ]
  },
  {
   "cell_type": "code",
   "execution_count": 117,
   "metadata": {},
   "outputs": [],
   "source": [
    "repeat_user_t = repeat_user.loc[repeat_user['user_id'].isin(repeat_buyer_ls)]"
   ]
  },
  {
   "cell_type": "code",
   "execution_count": 118,
   "metadata": {},
   "outputs": [
    {
     "data": {
      "text/plain": [
       "(1731024, 8)"
      ]
     },
     "execution_count": 118,
     "metadata": {},
     "output_type": "execute_result"
    }
   ],
   "source": [
    "repeat_user_t.shape"
   ]
  },
  {
   "cell_type": "code",
   "execution_count": 119,
   "metadata": {},
   "outputs": [
    {
     "data": {
      "text/plain": [
       "(2068790, 8)"
      ]
     },
     "execution_count": 119,
     "metadata": {},
     "output_type": "execute_result"
    }
   ],
   "source": [
    "repeat_user.shape"
   ]
  },
  {
   "cell_type": "code",
   "execution_count": 120,
   "metadata": {},
   "outputs": [
    {
     "data": {
      "text/html": [
       "<div>\n",
       "<style scoped>\n",
       "    .dataframe tbody tr th:only-of-type {\n",
       "        vertical-align: middle;\n",
       "    }\n",
       "\n",
       "    .dataframe tbody tr th {\n",
       "        vertical-align: top;\n",
       "    }\n",
       "\n",
       "    .dataframe thead th {\n",
       "        text-align: right;\n",
       "    }\n",
       "</style>\n",
       "<table border=\"1\" class=\"dataframe\">\n",
       "  <thead>\n",
       "    <tr style=\"text-align: right;\">\n",
       "      <th></th>\n",
       "      <th>Unnamed: 0</th>\n",
       "      <th>user_id</th>\n",
       "      <th>item_id</th>\n",
       "      <th>cat_id</th>\n",
       "      <th>seller_id</th>\n",
       "      <th>brand_id</th>\n",
       "      <th>time_stamp</th>\n",
       "      <th>action_type</th>\n",
       "    </tr>\n",
       "  </thead>\n",
       "  <tbody>\n",
       "    <tr>\n",
       "      <th>2</th>\n",
       "      <td>26051110</td>\n",
       "      <td>2</td>\n",
       "      <td>644638</td>\n",
       "      <td>602</td>\n",
       "      <td>420</td>\n",
       "      <td>4953.0</td>\n",
       "      <td>626</td>\n",
       "      <td>2</td>\n",
       "    </tr>\n",
       "    <tr>\n",
       "      <th>3</th>\n",
       "      <td>26051111</td>\n",
       "      <td>2</td>\n",
       "      <td>1072591</td>\n",
       "      <td>1213</td>\n",
       "      <td>420</td>\n",
       "      <td>4953.0</td>\n",
       "      <td>626</td>\n",
       "      <td>2</td>\n",
       "    </tr>\n",
       "    <tr>\n",
       "      <th>4</th>\n",
       "      <td>26051112</td>\n",
       "      <td>2</td>\n",
       "      <td>239288</td>\n",
       "      <td>602</td>\n",
       "      <td>420</td>\n",
       "      <td>4953.0</td>\n",
       "      <td>626</td>\n",
       "      <td>2</td>\n",
       "    </tr>\n",
       "    <tr>\n",
       "      <th>5</th>\n",
       "      <td>26051093</td>\n",
       "      <td>2</td>\n",
       "      <td>864941</td>\n",
       "      <td>737</td>\n",
       "      <td>1974</td>\n",
       "      <td>8321.0</td>\n",
       "      <td>817</td>\n",
       "      <td>2</td>\n",
       "    </tr>\n",
       "    <tr>\n",
       "      <th>6</th>\n",
       "      <td>26051137</td>\n",
       "      <td>2</td>\n",
       "      <td>1068315</td>\n",
       "      <td>703</td>\n",
       "      <td>2076</td>\n",
       "      <td>1283.0</td>\n",
       "      <td>721</td>\n",
       "      <td>2</td>\n",
       "    </tr>\n",
       "  </tbody>\n",
       "</table>\n",
       "</div>"
      ],
      "text/plain": [
       "   Unnamed: 0  user_id  item_id  cat_id  seller_id  brand_id  time_stamp  \\\n",
       "2    26051110        2   644638     602        420    4953.0         626   \n",
       "3    26051111        2  1072591    1213        420    4953.0         626   \n",
       "4    26051112        2   239288     602        420    4953.0         626   \n",
       "5    26051093        2   864941     737       1974    8321.0         817   \n",
       "6    26051137        2  1068315     703       2076    1283.0         721   \n",
       "\n",
       "   action_type  \n",
       "2            2  \n",
       "3            2  \n",
       "4            2  \n",
       "5            2  \n",
       "6            2  "
      ]
     },
     "execution_count": 120,
     "metadata": {},
     "output_type": "execute_result"
    }
   ],
   "source": [
    "repeat_user_t.head()"
   ]
  },
  {
   "cell_type": "code",
   "execution_count": 121,
   "metadata": {},
   "outputs": [],
   "source": [
    "#repeat_user_se = repeat_user_t.head(100)"
   ]
  },
  {
   "cell_type": "code",
   "execution_count": 122,
   "metadata": {},
   "outputs": [
    {
     "name": "stderr",
     "output_type": "stream",
     "text": [
      "/Users/xiaoguihua/anaconda3/envs/gabriel/lib/python3.6/site-packages/ipykernel_launcher.py:1: SettingWithCopyWarning: \n",
      "A value is trying to be set on a copy of a slice from a DataFrame.\n",
      "Try using .loc[row_indexer,col_indexer] = value instead\n",
      "\n",
      "See the caveats in the documentation: http://pandas.pydata.org/pandas-docs/stable/indexing.html#indexing-view-versus-copy\n",
      "  \"\"\"Entry point for launching an IPython kernel.\n"
     ]
    }
   ],
   "source": [
    "repeat_user_t['diff'] = repeat_user_t.groupby(['user_id','seller_id'])['time_stamp'].diff()"
   ]
  },
  {
   "cell_type": "code",
   "execution_count": 145,
   "metadata": {
    "scrolled": true
   },
   "outputs": [
    {
     "data": {
      "text/plain": [
       "(709772, 9)"
      ]
     },
     "execution_count": 145,
     "metadata": {},
     "output_type": "execute_result"
    }
   ],
   "source": [
    "repeat_user_t1 = repeat_user_t.dropna(subset=['diff'])\n",
    "repeat_user_t1.shape"
   ]
  },
  {
   "cell_type": "code",
   "execution_count": 146,
   "metadata": {},
   "outputs": [
    {
     "data": {
      "text/html": [
       "<div>\n",
       "<style scoped>\n",
       "    .dataframe tbody tr th:only-of-type {\n",
       "        vertical-align: middle;\n",
       "    }\n",
       "\n",
       "    .dataframe tbody tr th {\n",
       "        vertical-align: top;\n",
       "    }\n",
       "\n",
       "    .dataframe thead th {\n",
       "        text-align: right;\n",
       "    }\n",
       "</style>\n",
       "<table border=\"1\" class=\"dataframe\">\n",
       "  <thead>\n",
       "    <tr style=\"text-align: right;\">\n",
       "      <th></th>\n",
       "      <th>Unnamed: 0</th>\n",
       "      <th>user_id</th>\n",
       "      <th>item_id</th>\n",
       "      <th>cat_id</th>\n",
       "      <th>seller_id</th>\n",
       "      <th>brand_id</th>\n",
       "      <th>time_stamp</th>\n",
       "      <th>action_type</th>\n",
       "      <th>diff</th>\n",
       "    </tr>\n",
       "  </thead>\n",
       "  <tbody>\n",
       "    <tr>\n",
       "      <th>3</th>\n",
       "      <td>26051111</td>\n",
       "      <td>2</td>\n",
       "      <td>1072591</td>\n",
       "      <td>1213</td>\n",
       "      <td>420</td>\n",
       "      <td>4953.0</td>\n",
       "      <td>626</td>\n",
       "      <td>2</td>\n",
       "      <td>0.0</td>\n",
       "    </tr>\n",
       "    <tr>\n",
       "      <th>4</th>\n",
       "      <td>26051112</td>\n",
       "      <td>2</td>\n",
       "      <td>239288</td>\n",
       "      <td>602</td>\n",
       "      <td>420</td>\n",
       "      <td>4953.0</td>\n",
       "      <td>626</td>\n",
       "      <td>2</td>\n",
       "      <td>0.0</td>\n",
       "    </tr>\n",
       "    <tr>\n",
       "      <th>8</th>\n",
       "      <td>26051128</td>\n",
       "      <td>2</td>\n",
       "      <td>917794</td>\n",
       "      <td>1401</td>\n",
       "      <td>3552</td>\n",
       "      <td>2276.0</td>\n",
       "      <td>1010</td>\n",
       "      <td>2</td>\n",
       "      <td>0.0</td>\n",
       "    </tr>\n",
       "    <tr>\n",
       "      <th>10</th>\n",
       "      <td>25403672</td>\n",
       "      <td>3</td>\n",
       "      <td>895754</td>\n",
       "      <td>1505</td>\n",
       "      <td>795</td>\n",
       "      <td>3608.0</td>\n",
       "      <td>516</td>\n",
       "      <td>2</td>\n",
       "      <td>0.0</td>\n",
       "    </tr>\n",
       "    <tr>\n",
       "      <th>13</th>\n",
       "      <td>37517291</td>\n",
       "      <td>5</td>\n",
       "      <td>841334</td>\n",
       "      <td>1439</td>\n",
       "      <td>360</td>\n",
       "      <td>6880.0</td>\n",
       "      <td>903</td>\n",
       "      <td>2</td>\n",
       "      <td>0.0</td>\n",
       "    </tr>\n",
       "  </tbody>\n",
       "</table>\n",
       "</div>"
      ],
      "text/plain": [
       "    Unnamed: 0  user_id  item_id  cat_id  seller_id  brand_id  time_stamp  \\\n",
       "3     26051111        2  1072591    1213        420    4953.0         626   \n",
       "4     26051112        2   239288     602        420    4953.0         626   \n",
       "8     26051128        2   917794    1401       3552    2276.0        1010   \n",
       "10    25403672        3   895754    1505        795    3608.0         516   \n",
       "13    37517291        5   841334    1439        360    6880.0         903   \n",
       "\n",
       "    action_type  diff  \n",
       "3             2   0.0  \n",
       "4             2   0.0  \n",
       "8             2   0.0  \n",
       "10            2   0.0  \n",
       "13            2   0.0  "
      ]
     },
     "execution_count": 146,
     "metadata": {},
     "output_type": "execute_result"
    }
   ],
   "source": [
    "repeat_user_t1.head()"
   ]
  },
  {
   "cell_type": "code",
   "execution_count": 147,
   "metadata": {},
   "outputs": [
    {
     "name": "stderr",
     "output_type": "stream",
     "text": [
      "/Users/xiaoguihua/anaconda3/envs/gabriel/lib/python3.6/site-packages/ipykernel_launcher.py:15: SettingWithCopyWarning: \n",
      "A value is trying to be set on a copy of a slice from a DataFrame.\n",
      "Try using .loc[row_indexer,col_indexer] = value instead\n",
      "\n",
      "See the caveats in the documentation: http://pandas.pydata.org/pandas-docs/stable/indexing.html#indexing-view-versus-copy\n",
      "  from ipykernel import kernelapp as app\n"
     ]
    }
   ],
   "source": [
    "conditions =[\n",
    "    (repeat_user_t1['diff'] < 35.0),\n",
    "    (repeat_user_t1['diff'] >= 35.0) & (repeat_user_t1['diff'] < 135.0),\n",
    "    (repeat_user_t1['diff'] >= 135.0) & (repeat_user_t1['diff'] < 235.0),\n",
    "    (repeat_user_t1['diff'] >= 235.0) & (repeat_user_t1['diff'] < 335.0),\n",
    "    (repeat_user_t1['diff'] >= 335.0) & (repeat_user_t1['diff'] < 435.0),\n",
    "    (repeat_user_t1['diff'] >= 435.0) & (repeat_user_t1['diff'] < 535.0),\n",
    "    (repeat_user_t1['diff'] >= 535.0) & (repeat_user_t1['diff'] < 635.0),\n",
    "]\n",
    "\n",
    "choices = [repeat_user_t1['diff'], repeat_user_t1['diff']-70,  repeat_user_t1['diff']-140,\n",
    "           repeat_user_t1['diff']-210, repeat_user_t1['diff']-280, repeat_user_t1['diff']-350,\n",
    "          repeat_user_t1['diff']-420]\n",
    "\n",
    "repeat_user_t1['diff_new'] = np.select(conditions, choices, default=0)"
   ]
  },
  {
   "cell_type": "code",
   "execution_count": 160,
   "metadata": {},
   "outputs": [],
   "source": [
    "repeat_user_result = repeat_user_t1[['user_id','seller_id', 'diff_new']].reset_index(drop=True)"
   ]
  },
  {
   "cell_type": "code",
   "execution_count": 161,
   "metadata": {},
   "outputs": [
    {
     "data": {
      "text/html": [
       "<div>\n",
       "<style scoped>\n",
       "    .dataframe tbody tr th:only-of-type {\n",
       "        vertical-align: middle;\n",
       "    }\n",
       "\n",
       "    .dataframe tbody tr th {\n",
       "        vertical-align: top;\n",
       "    }\n",
       "\n",
       "    .dataframe thead th {\n",
       "        text-align: right;\n",
       "    }\n",
       "</style>\n",
       "<table border=\"1\" class=\"dataframe\">\n",
       "  <thead>\n",
       "    <tr style=\"text-align: right;\">\n",
       "      <th></th>\n",
       "      <th>user_id</th>\n",
       "      <th>seller_id</th>\n",
       "      <th>diff_new</th>\n",
       "    </tr>\n",
       "  </thead>\n",
       "  <tbody>\n",
       "    <tr>\n",
       "      <th>0</th>\n",
       "      <td>2</td>\n",
       "      <td>420</td>\n",
       "      <td>0.0</td>\n",
       "    </tr>\n",
       "    <tr>\n",
       "      <th>1</th>\n",
       "      <td>2</td>\n",
       "      <td>420</td>\n",
       "      <td>0.0</td>\n",
       "    </tr>\n",
       "    <tr>\n",
       "      <th>2</th>\n",
       "      <td>2</td>\n",
       "      <td>3552</td>\n",
       "      <td>0.0</td>\n",
       "    </tr>\n",
       "    <tr>\n",
       "      <th>3</th>\n",
       "      <td>3</td>\n",
       "      <td>795</td>\n",
       "      <td>0.0</td>\n",
       "    </tr>\n",
       "    <tr>\n",
       "      <th>4</th>\n",
       "      <td>5</td>\n",
       "      <td>360</td>\n",
       "      <td>0.0</td>\n",
       "    </tr>\n",
       "  </tbody>\n",
       "</table>\n",
       "</div>"
      ],
      "text/plain": [
       "   user_id  seller_id  diff_new\n",
       "0        2        420       0.0\n",
       "1        2        420       0.0\n",
       "2        2       3552       0.0\n",
       "3        3        795       0.0\n",
       "4        5        360       0.0"
      ]
     },
     "execution_count": 161,
     "metadata": {},
     "output_type": "execute_result"
    }
   ],
   "source": [
    "repeat_user_result.head()"
   ]
  },
  {
   "cell_type": "code",
   "execution_count": 162,
   "metadata": {},
   "outputs": [],
   "source": [
    "repeat_user_result = pd.DataFrame(repeat_user_result.groupby(['user_id', 'seller_id'])['diff_new'].mean().reset_index())"
   ]
  },
  {
   "cell_type": "code",
   "execution_count": 165,
   "metadata": {},
   "outputs": [],
   "source": [
    "repeat_user_result.to_csv('data_processed/repeat_user_result.csv')"
   ]
  },
  {
   "cell_type": "code",
   "execution_count": null,
   "metadata": {},
   "outputs": [],
   "source": []
  }
 ],
 "metadata": {
  "kernelspec": {
   "display_name": "gabriel",
   "language": "python",
   "name": "gabriel"
  },
  "language_info": {
   "codemirror_mode": {
    "name": "ipython",
    "version": 3
   },
   "file_extension": ".py",
   "mimetype": "text/x-python",
   "name": "python",
   "nbconvert_exporter": "python",
   "pygments_lexer": "ipython3",
   "version": "3.6.8"
  }
 },
 "nbformat": 4,
 "nbformat_minor": 2
}
